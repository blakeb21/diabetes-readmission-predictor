{
 "cells": [
  {
   "cell_type": "markdown",
   "metadata": {},
   "source": [
    "# Regression"
   ]
  },
  {
   "cell_type": "code",
   "execution_count": 169,
   "metadata": {},
   "outputs": [],
   "source": [
    "import pandas as pd\n",
    "import numpy as np\n",
    "import matplotlib.pyplot as plt\n",
    "import matplotlib.cm as cm\n",
    "import seaborn as sns\n",
    "import random\n",
    "from mlxtend.plotting import plot_decision_regions\n",
    "\n",
    "plt.style.use('ggplot')\n",
    "%matplotlib inline\n",
    "np.set_printoptions(suppress=True) # Suppress scientific notation where possible"
   ]
  },
  {
   "cell_type": "code",
   "execution_count": 165,
   "metadata": {},
   "outputs": [],
   "source": [
    "from sklearn import datasets, metrics\n",
    "from sklearn.neighbors import KNeighborsClassifier\n",
    "from sklearn.linear_model import LogisticRegression\n",
    "from sklearn.model_selection import train_test_split\n",
    "from sklearn.metrics import precision_score, recall_score, precision_recall_curve, accuracy_score, f1_score, fbeta_score\n",
    "from sklearn.preprocessing import OneHotEncoder\n",
    "\n",
    "from sklearn.tree import DecisionTreeClassifier\n",
    "from sklearn.svm import LinearSVC\n",
    "from sklearn.svm import SVC\n",
    "from sklearn.ensemble import RandomForestClassifier\n",
    "from collections import Counter\n",
    "\n",
    "df = pd.read_csv('./diabetes.csv')"
   ]
  },
  {
   "cell_type": "code",
   "execution_count": 3,
   "metadata": {},
   "outputs": [],
   "source": [
    "del df['Unnamed: 0']"
   ]
  },
  {
   "cell_type": "code",
   "execution_count": 4,
   "metadata": {},
   "outputs": [
    {
     "data": {
      "text/html": [
       "<div>\n",
       "<style scoped>\n",
       "    .dataframe tbody tr th:only-of-type {\n",
       "        vertical-align: middle;\n",
       "    }\n",
       "\n",
       "    .dataframe tbody tr th {\n",
       "        vertical-align: top;\n",
       "    }\n",
       "\n",
       "    .dataframe thead th {\n",
       "        text-align: right;\n",
       "    }\n",
       "</style>\n",
       "<table border=\"1\" class=\"dataframe\">\n",
       "  <thead>\n",
       "    <tr style=\"text-align: right;\">\n",
       "      <th></th>\n",
       "      <th>encounter_id</th>\n",
       "      <th>patient_nbr</th>\n",
       "      <th>race</th>\n",
       "      <th>gender</th>\n",
       "      <th>age</th>\n",
       "      <th>weight</th>\n",
       "      <th>admission_type_id</th>\n",
       "      <th>discharge_disposition_id</th>\n",
       "      <th>time_in_hospital</th>\n",
       "      <th>num_lab_procedures</th>\n",
       "      <th>num_procedures</th>\n",
       "      <th>num_medications</th>\n",
       "      <th>diag_1</th>\n",
       "      <th>diag_2</th>\n",
       "      <th>diag_3</th>\n",
       "      <th>number_diagnoses</th>\n",
       "      <th>change</th>\n",
       "      <th>readmitted</th>\n",
       "    </tr>\n",
       "  </thead>\n",
       "  <tbody>\n",
       "    <tr>\n",
       "      <th>0</th>\n",
       "      <td>72091308</td>\n",
       "      <td>20123568</td>\n",
       "      <td>Caucasian</td>\n",
       "      <td>Female</td>\n",
       "      <td>75</td>\n",
       "      <td>NaN</td>\n",
       "      <td>1</td>\n",
       "      <td>22</td>\n",
       "      <td>7</td>\n",
       "      <td>58</td>\n",
       "      <td>2</td>\n",
       "      <td>15</td>\n",
       "      <td>injury and poisoning</td>\n",
       "      <td>endocrine, nutritional and metabolic diseases,...</td>\n",
       "      <td>diseases of the blood and blood-forming organs</td>\n",
       "      <td>9</td>\n",
       "      <td>Ch</td>\n",
       "      <td>NO</td>\n",
       "    </tr>\n",
       "    <tr>\n",
       "      <th>1</th>\n",
       "      <td>72848634</td>\n",
       "      <td>20377854</td>\n",
       "      <td>Caucasian</td>\n",
       "      <td>Female</td>\n",
       "      <td>65</td>\n",
       "      <td>NaN</td>\n",
       "      <td>2</td>\n",
       "      <td>1</td>\n",
       "      <td>3</td>\n",
       "      <td>59</td>\n",
       "      <td>3</td>\n",
       "      <td>11</td>\n",
       "      <td>external causes of injury and supplemental cla...</td>\n",
       "      <td>diseases of the circulatory system</td>\n",
       "      <td>diseases of the genitourinary system</td>\n",
       "      <td>6</td>\n",
       "      <td>No</td>\n",
       "      <td>NO</td>\n",
       "    </tr>\n",
       "    <tr>\n",
       "      <th>2</th>\n",
       "      <td>73062156</td>\n",
       "      <td>20408121</td>\n",
       "      <td>Caucasian</td>\n",
       "      <td>Female</td>\n",
       "      <td>95</td>\n",
       "      <td>NaN</td>\n",
       "      <td>1</td>\n",
       "      <td>1</td>\n",
       "      <td>4</td>\n",
       "      <td>56</td>\n",
       "      <td>1</td>\n",
       "      <td>9</td>\n",
       "      <td>diseases of the digestive system</td>\n",
       "      <td>diseases of the circulatory system</td>\n",
       "      <td>diseases of the digestive system</td>\n",
       "      <td>6</td>\n",
       "      <td>No</td>\n",
       "      <td>NO</td>\n",
       "    </tr>\n",
       "    <tr>\n",
       "      <th>3</th>\n",
       "      <td>73731852</td>\n",
       "      <td>20542797</td>\n",
       "      <td>Caucasian</td>\n",
       "      <td>Male</td>\n",
       "      <td>75</td>\n",
       "      <td>NaN</td>\n",
       "      <td>1</td>\n",
       "      <td>2</td>\n",
       "      <td>10</td>\n",
       "      <td>68</td>\n",
       "      <td>1</td>\n",
       "      <td>18</td>\n",
       "      <td>diseases of the skin and subcutaneous tissue</td>\n",
       "      <td>diseases of the circulatory system</td>\n",
       "      <td>endocrine, nutritional and metabolic diseases,...</td>\n",
       "      <td>6</td>\n",
       "      <td>Ch</td>\n",
       "      <td>NO</td>\n",
       "    </tr>\n",
       "    <tr>\n",
       "      <th>4</th>\n",
       "      <td>80820942</td>\n",
       "      <td>20514150</td>\n",
       "      <td>Caucasian</td>\n",
       "      <td>Female</td>\n",
       "      <td>65</td>\n",
       "      <td>NaN</td>\n",
       "      <td>2</td>\n",
       "      <td>1</td>\n",
       "      <td>4</td>\n",
       "      <td>33</td>\n",
       "      <td>0</td>\n",
       "      <td>11</td>\n",
       "      <td>diabetes-related</td>\n",
       "      <td>diseases of the circulatory system</td>\n",
       "      <td>diseases of the circulatory system</td>\n",
       "      <td>4</td>\n",
       "      <td>Ch</td>\n",
       "      <td>&lt;30</td>\n",
       "    </tr>\n",
       "  </tbody>\n",
       "</table>\n",
       "</div>"
      ],
      "text/plain": [
       "   encounter_id  patient_nbr       race  gender  age weight  \\\n",
       "0      72091308     20123568  Caucasian  Female   75    NaN   \n",
       "1      72848634     20377854  Caucasian  Female   65    NaN   \n",
       "2      73062156     20408121  Caucasian  Female   95    NaN   \n",
       "3      73731852     20542797  Caucasian    Male   75    NaN   \n",
       "4      80820942     20514150  Caucasian  Female   65    NaN   \n",
       "\n",
       "   admission_type_id  discharge_disposition_id  time_in_hospital  \\\n",
       "0                  1                        22                 7   \n",
       "1                  2                         1                 3   \n",
       "2                  1                         1                 4   \n",
       "3                  1                         2                10   \n",
       "4                  2                         1                 4   \n",
       "\n",
       "   num_lab_procedures  num_procedures  num_medications  \\\n",
       "0                  58               2               15   \n",
       "1                  59               3               11   \n",
       "2                  56               1                9   \n",
       "3                  68               1               18   \n",
       "4                  33               0               11   \n",
       "\n",
       "                                              diag_1  \\\n",
       "0                               injury and poisoning   \n",
       "1  external causes of injury and supplemental cla...   \n",
       "2                   diseases of the digestive system   \n",
       "3       diseases of the skin and subcutaneous tissue   \n",
       "4                                   diabetes-related   \n",
       "\n",
       "                                              diag_2  \\\n",
       "0  endocrine, nutritional and metabolic diseases,...   \n",
       "1                 diseases of the circulatory system   \n",
       "2                 diseases of the circulatory system   \n",
       "3                 diseases of the circulatory system   \n",
       "4                 diseases of the circulatory system   \n",
       "\n",
       "                                              diag_3  number_diagnoses change  \\\n",
       "0     diseases of the blood and blood-forming organs                 9     Ch   \n",
       "1               diseases of the genitourinary system                 6     No   \n",
       "2                   diseases of the digestive system                 6     No   \n",
       "3  endocrine, nutritional and metabolic diseases,...                 6     Ch   \n",
       "4                 diseases of the circulatory system                 4     Ch   \n",
       "\n",
       "  readmitted  \n",
       "0         NO  \n",
       "1         NO  \n",
       "2         NO  \n",
       "3         NO  \n",
       "4        <30  "
      ]
     },
     "execution_count": 4,
     "metadata": {},
     "output_type": "execute_result"
    }
   ],
   "source": [
    "df.head()"
   ]
  },
  {
   "cell_type": "code",
   "execution_count": 5,
   "metadata": {},
   "outputs": [
    {
     "data": {
      "text/plain": [
       "encounter_id                 int64\n",
       "patient_nbr                  int64\n",
       "race                        object\n",
       "gender                      object\n",
       "age                          int64\n",
       "weight                      object\n",
       "admission_type_id            int64\n",
       "discharge_disposition_id     int64\n",
       "time_in_hospital             int64\n",
       "num_lab_procedures           int64\n",
       "num_procedures               int64\n",
       "num_medications              int64\n",
       "diag_1                      object\n",
       "diag_2                      object\n",
       "diag_3                      object\n",
       "number_diagnoses             int64\n",
       "change                      object\n",
       "readmitted                  object\n",
       "dtype: object"
      ]
     },
     "execution_count": 5,
     "metadata": {},
     "output_type": "execute_result"
    }
   ],
   "source": [
    "df.dtypes"
   ]
  },
  {
   "cell_type": "markdown",
   "metadata": {},
   "source": [
    "The `readmitted` column currently contains three categorical values for whether a patient is readmitted. We'll simplify the values in the column and designate 0 to mean not readmitted and 1 to signify readmitted."
   ]
  },
  {
   "cell_type": "code",
   "execution_count": 6,
   "metadata": {},
   "outputs": [
    {
     "data": {
      "text/plain": [
       "0    31019\n",
       "1     8706\n",
       "Name: readmitted, dtype: int64"
      ]
     },
     "execution_count": 6,
     "metadata": {},
     "output_type": "execute_result"
    }
   ],
   "source": [
    "df['readmitted'].replace({'NO':0, '>30':1, '<30':1}, inplace=True)\n",
    "df['readmitted'].value_counts()"
   ]
  },
  {
   "cell_type": "markdown",
   "metadata": {},
   "source": [
    "Let's also look at a heatmap to get an idea of which features are more closely correlated in order to choose predictor variables for our model."
   ]
  },
  {
   "cell_type": "code",
   "execution_count": 78,
   "metadata": {},
   "outputs": [
    {
     "data": {
      "text/plain": [
       "<AxesSubplot:>"
      ]
     },
     "execution_count": 78,
     "metadata": {},
     "output_type": "execute_result"
    },
    {
     "data": {
      "image/png": "[encoded data removed]",
      "text/plain": [
       "<Figure size 504x504 with 2 Axes>"
      ]
     },
     "metadata": {
      "needs_background": "light"
     },
     "output_type": "display_data"
    }
   ],
   "source": [
    "df1 = df[['age', 'admission_type_id', 'discharge_disposition_id', 'time_in_hospital', 'num_lab_procedures', 'num_procedures', 'num_medications', 'number_diagnoses', 'readmitted']]\n",
    "\n",
    "plt.figure(figsize=(7, 7))\n",
    "sns.heatmap(df1.corr(), cmap='coolwarm', annot=True)"
   ]
  },
  {
   "cell_type": "markdown",
   "metadata": {},
   "source": [
    "### Variable Pre-Processing\n",
    "\n",
    "We'll pre-process data using the following steps:\n",
    "1. Split the data into train, test, and validation sets.\n",
    "2. One-hot encode categorical variables for each set.\n",
    "3. Standardize continous variables for each set.\n",
    "4. Combine the processed features into a dataframe."
   ]
  },
  {
   "cell_type": "code",
   "execution_count": 8,
   "metadata": {},
   "outputs": [],
   "source": [
    "#Split data into 3: 60% train, 20% validation, 20% test\n",
    "X_train, X_test, label_train, label_test = train_test_split(df[['race', 'gender', 'age',\n",
    "                                                                'admission_type_id', 'discharge_disposition_id', 'time_in_hospital',\n",
    "                                                                'num_procedures', 'num_medications', 'diag_1']], df['readmitted'],\n",
    "                                                            test_size=0.2, random_state=2018)\n",
    "X_train, X_val, label_train, label_val = train_test_split(df[['race', 'gender', 'age',\n",
    "                                                                'admission_type_id', 'discharge_disposition_id', 'time_in_hospital',\n",
    "                                                                'num_procedures', 'num_medications', 'diag_1']], df['readmitted'],\n",
    "                                                            test_size=0.25, random_state=2019)"
   ]
  },
  {
   "cell_type": "code",
   "execution_count": 9,
   "metadata": {},
   "outputs": [],
   "source": [
    "# Select categorical variables from training set\n",
    "cat_variable = ['race', 'gender', 'diag_1']\n",
    "\n",
    "X_train_cat = X_train[cat_variable]"
   ]
  },
  {
   "cell_type": "code",
   "execution_count": 10,
   "metadata": {},
   "outputs": [],
   "source": [
    "# Instantiate OneHotEncoder object\n",
    "from sklearn.preprocessing import OneHotEncoder\n",
    "\n",
    "ohe = OneHotEncoder(sparse=False, drop='first')\n",
    "ohe.fit(X_train_cat) \n",
    "cats = ohe.transform(X_train_cat)"
   ]
  },
  {
   "cell_type": "code",
   "execution_count": 11,
   "metadata": {},
   "outputs": [
    {
     "data": {
      "text/html": [
       "<div>\n",
       "<style scoped>\n",
       "    .dataframe tbody tr th:only-of-type {\n",
       "        vertical-align: middle;\n",
       "    }\n",
       "\n",
       "    .dataframe tbody tr th {\n",
       "        vertical-align: top;\n",
       "    }\n",
       "\n",
       "    .dataframe thead th {\n",
       "        text-align: right;\n",
       "    }\n",
       "</style>\n",
       "<table border=\"1\" class=\"dataframe\">\n",
       "  <thead>\n",
       "    <tr style=\"text-align: right;\">\n",
       "      <th></th>\n",
       "      <th>race_Asian</th>\n",
       "      <th>race_Caucasian</th>\n",
       "      <th>race_Hispanic</th>\n",
       "      <th>race_Other</th>\n",
       "      <th>gender_Male</th>\n",
       "      <th>diag_1_congenital anomalies</th>\n",
       "      <th>diag_1_diabetes-related</th>\n",
       "      <th>diag_1_diseases of the blood and blood-forming organs</th>\n",
       "      <th>diag_1_diseases of the circulatory system</th>\n",
       "      <th>diag_1_diseases of the digestive system</th>\n",
       "      <th>...</th>\n",
       "      <th>diag_1_diseases of the nervous system and sense organs</th>\n",
       "      <th>diag_1_diseases of the respiratory system</th>\n",
       "      <th>diag_1_diseases of the skin and subcutaneous tissue</th>\n",
       "      <th>diag_1_endocrine, nutritional and metabolic diseases, and immunity disorders</th>\n",
       "      <th>diag_1_external causes of injury and supplemental classification</th>\n",
       "      <th>diag_1_infectious and parasitic diseases</th>\n",
       "      <th>diag_1_injury and poisoning</th>\n",
       "      <th>diag_1_mental disorders</th>\n",
       "      <th>diag_1_neoplasms</th>\n",
       "      <th>diag_1_symptoms, signs, and ill-defined conditions</th>\n",
       "    </tr>\n",
       "  </thead>\n",
       "  <tbody>\n",
       "    <tr>\n",
       "      <th>32808</th>\n",
       "      <td>0.0</td>\n",
       "      <td>0.0</td>\n",
       "      <td>0.0</td>\n",
       "      <td>0.0</td>\n",
       "      <td>1.0</td>\n",
       "      <td>0.0</td>\n",
       "      <td>0.0</td>\n",
       "      <td>0.0</td>\n",
       "      <td>0.0</td>\n",
       "      <td>0.0</td>\n",
       "      <td>...</td>\n",
       "      <td>0.0</td>\n",
       "      <td>0.0</td>\n",
       "      <td>0.0</td>\n",
       "      <td>0.0</td>\n",
       "      <td>0.0</td>\n",
       "      <td>0.0</td>\n",
       "      <td>0.0</td>\n",
       "      <td>0.0</td>\n",
       "      <td>0.0</td>\n",
       "      <td>0.0</td>\n",
       "    </tr>\n",
       "    <tr>\n",
       "      <th>17840</th>\n",
       "      <td>0.0</td>\n",
       "      <td>1.0</td>\n",
       "      <td>0.0</td>\n",
       "      <td>0.0</td>\n",
       "      <td>1.0</td>\n",
       "      <td>0.0</td>\n",
       "      <td>0.0</td>\n",
       "      <td>0.0</td>\n",
       "      <td>1.0</td>\n",
       "      <td>0.0</td>\n",
       "      <td>...</td>\n",
       "      <td>0.0</td>\n",
       "      <td>0.0</td>\n",
       "      <td>0.0</td>\n",
       "      <td>0.0</td>\n",
       "      <td>0.0</td>\n",
       "      <td>0.0</td>\n",
       "      <td>0.0</td>\n",
       "      <td>0.0</td>\n",
       "      <td>0.0</td>\n",
       "      <td>0.0</td>\n",
       "    </tr>\n",
       "    <tr>\n",
       "      <th>20047</th>\n",
       "      <td>0.0</td>\n",
       "      <td>1.0</td>\n",
       "      <td>0.0</td>\n",
       "      <td>0.0</td>\n",
       "      <td>0.0</td>\n",
       "      <td>0.0</td>\n",
       "      <td>0.0</td>\n",
       "      <td>0.0</td>\n",
       "      <td>0.0</td>\n",
       "      <td>0.0</td>\n",
       "      <td>...</td>\n",
       "      <td>0.0</td>\n",
       "      <td>0.0</td>\n",
       "      <td>0.0</td>\n",
       "      <td>0.0</td>\n",
       "      <td>0.0</td>\n",
       "      <td>0.0</td>\n",
       "      <td>1.0</td>\n",
       "      <td>0.0</td>\n",
       "      <td>0.0</td>\n",
       "      <td>0.0</td>\n",
       "    </tr>\n",
       "    <tr>\n",
       "      <th>31796</th>\n",
       "      <td>0.0</td>\n",
       "      <td>0.0</td>\n",
       "      <td>0.0</td>\n",
       "      <td>1.0</td>\n",
       "      <td>0.0</td>\n",
       "      <td>0.0</td>\n",
       "      <td>1.0</td>\n",
       "      <td>0.0</td>\n",
       "      <td>0.0</td>\n",
       "      <td>0.0</td>\n",
       "      <td>...</td>\n",
       "      <td>0.0</td>\n",
       "      <td>0.0</td>\n",
       "      <td>0.0</td>\n",
       "      <td>0.0</td>\n",
       "      <td>0.0</td>\n",
       "      <td>0.0</td>\n",
       "      <td>0.0</td>\n",
       "      <td>0.0</td>\n",
       "      <td>0.0</td>\n",
       "      <td>0.0</td>\n",
       "    </tr>\n",
       "    <tr>\n",
       "      <th>8831</th>\n",
       "      <td>0.0</td>\n",
       "      <td>1.0</td>\n",
       "      <td>0.0</td>\n",
       "      <td>0.0</td>\n",
       "      <td>0.0</td>\n",
       "      <td>0.0</td>\n",
       "      <td>0.0</td>\n",
       "      <td>0.0</td>\n",
       "      <td>0.0</td>\n",
       "      <td>0.0</td>\n",
       "      <td>...</td>\n",
       "      <td>0.0</td>\n",
       "      <td>0.0</td>\n",
       "      <td>0.0</td>\n",
       "      <td>0.0</td>\n",
       "      <td>0.0</td>\n",
       "      <td>0.0</td>\n",
       "      <td>0.0</td>\n",
       "      <td>0.0</td>\n",
       "      <td>0.0</td>\n",
       "      <td>0.0</td>\n",
       "    </tr>\n",
       "  </tbody>\n",
       "</table>\n",
       "<p>5 rows × 22 columns</p>\n",
       "</div>"
      ],
      "text/plain": [
       "       race_Asian  race_Caucasian  race_Hispanic  race_Other  gender_Male  \\\n",
       "32808         0.0             0.0            0.0         0.0          1.0   \n",
       "17840         0.0             1.0            0.0         0.0          1.0   \n",
       "20047         0.0             1.0            0.0         0.0          0.0   \n",
       "31796         0.0             0.0            0.0         1.0          0.0   \n",
       "8831          0.0             1.0            0.0         0.0          0.0   \n",
       "\n",
       "       diag_1_congenital anomalies  diag_1_diabetes-related  \\\n",
       "32808                          0.0                      0.0   \n",
       "17840                          0.0                      0.0   \n",
       "20047                          0.0                      0.0   \n",
       "31796                          0.0                      1.0   \n",
       "8831                           0.0                      0.0   \n",
       "\n",
       "       diag_1_diseases of the blood and blood-forming organs  \\\n",
       "32808                                                0.0       \n",
       "17840                                                0.0       \n",
       "20047                                                0.0       \n",
       "31796                                                0.0       \n",
       "8831                                                 0.0       \n",
       "\n",
       "       diag_1_diseases of the circulatory system  \\\n",
       "32808                                        0.0   \n",
       "17840                                        1.0   \n",
       "20047                                        0.0   \n",
       "31796                                        0.0   \n",
       "8831                                         0.0   \n",
       "\n",
       "       diag_1_diseases of the digestive system  ...  \\\n",
       "32808                                      0.0  ...   \n",
       "17840                                      0.0  ...   \n",
       "20047                                      0.0  ...   \n",
       "31796                                      0.0  ...   \n",
       "8831                                       0.0  ...   \n",
       "\n",
       "       diag_1_diseases of the nervous system and sense organs  \\\n",
       "32808                                                0.0        \n",
       "17840                                                0.0        \n",
       "20047                                                0.0        \n",
       "31796                                                0.0        \n",
       "8831                                                 0.0        \n",
       "\n",
       "       diag_1_diseases of the respiratory system  \\\n",
       "32808                                        0.0   \n",
       "17840                                        0.0   \n",
       "20047                                        0.0   \n",
       "31796                                        0.0   \n",
       "8831                                         0.0   \n",
       "\n",
       "       diag_1_diseases of the skin and subcutaneous tissue  \\\n",
       "32808                                                0.0     \n",
       "17840                                                0.0     \n",
       "20047                                                0.0     \n",
       "31796                                                0.0     \n",
       "8831                                                 0.0     \n",
       "\n",
       "       diag_1_endocrine, nutritional and metabolic diseases, and immunity disorders  \\\n",
       "32808                                                0.0                              \n",
       "17840                                                0.0                              \n",
       "20047                                                0.0                              \n",
       "31796                                                0.0                              \n",
       "8831                                                 0.0                              \n",
       "\n",
       "       diag_1_external causes of injury and supplemental classification  \\\n",
       "32808                                                0.0                  \n",
       "17840                                                0.0                  \n",
       "20047                                                0.0                  \n",
       "31796                                                0.0                  \n",
       "8831                                                 0.0                  \n",
       "\n",
       "       diag_1_infectious and parasitic diseases  diag_1_injury and poisoning  \\\n",
       "32808                                       0.0                          0.0   \n",
       "17840                                       0.0                          0.0   \n",
       "20047                                       0.0                          1.0   \n",
       "31796                                       0.0                          0.0   \n",
       "8831                                        0.0                          0.0   \n",
       "\n",
       "       diag_1_mental disorders  diag_1_neoplasms  \\\n",
       "32808                      0.0               0.0   \n",
       "17840                      0.0               0.0   \n",
       "20047                      0.0               0.0   \n",
       "31796                      0.0               0.0   \n",
       "8831                       0.0               0.0   \n",
       "\n",
       "       diag_1_symptoms, signs, and ill-defined conditions  \n",
       "32808                                                0.0   \n",
       "17840                                                0.0   \n",
       "20047                                                0.0   \n",
       "31796                                                0.0   \n",
       "8831                                                 0.0   \n",
       "\n",
       "[5 rows x 22 columns]"
      ]
     },
     "execution_count": 11,
     "metadata": {},
     "output_type": "execute_result"
    }
   ],
   "source": [
    "# Create categorial dataframe with column names\n",
    "columns = ohe.get_feature_names(cat_variable)\n",
    "X_train_cat_df = pd.DataFrame(cats, columns=columns, index=X_train_cat.index)\n",
    "X_train_cat_df.head()"
   ]
  },
  {
   "cell_type": "code",
   "execution_count": 12,
   "metadata": {},
   "outputs": [
    {
     "data": {
      "text/html": [
       "<div>\n",
       "<style scoped>\n",
       "    .dataframe tbody tr th:only-of-type {\n",
       "        vertical-align: middle;\n",
       "    }\n",
       "\n",
       "    .dataframe tbody tr th {\n",
       "        vertical-align: top;\n",
       "    }\n",
       "\n",
       "    .dataframe thead th {\n",
       "        text-align: right;\n",
       "    }\n",
       "</style>\n",
       "<table border=\"1\" class=\"dataframe\">\n",
       "  <thead>\n",
       "    <tr style=\"text-align: right;\">\n",
       "      <th></th>\n",
       "      <th>race_Asian</th>\n",
       "      <th>race_Caucasian</th>\n",
       "      <th>race_Hispanic</th>\n",
       "      <th>race_Other</th>\n",
       "      <th>gender_Male</th>\n",
       "      <th>diag_1_congenital anomalies</th>\n",
       "      <th>diag_1_diabetes-related</th>\n",
       "      <th>diag_1_diseases of the blood and blood-forming organs</th>\n",
       "      <th>diag_1_diseases of the circulatory system</th>\n",
       "      <th>diag_1_diseases of the digestive system</th>\n",
       "      <th>...</th>\n",
       "      <th>diag_1_diseases of the nervous system and sense organs</th>\n",
       "      <th>diag_1_diseases of the respiratory system</th>\n",
       "      <th>diag_1_diseases of the skin and subcutaneous tissue</th>\n",
       "      <th>diag_1_endocrine, nutritional and metabolic diseases, and immunity disorders</th>\n",
       "      <th>diag_1_external causes of injury and supplemental classification</th>\n",
       "      <th>diag_1_infectious and parasitic diseases</th>\n",
       "      <th>diag_1_injury and poisoning</th>\n",
       "      <th>diag_1_mental disorders</th>\n",
       "      <th>diag_1_neoplasms</th>\n",
       "      <th>diag_1_symptoms, signs, and ill-defined conditions</th>\n",
       "    </tr>\n",
       "  </thead>\n",
       "  <tbody>\n",
       "    <tr>\n",
       "      <th>12251</th>\n",
       "      <td>0.0</td>\n",
       "      <td>1.0</td>\n",
       "      <td>0.0</td>\n",
       "      <td>0.0</td>\n",
       "      <td>1.0</td>\n",
       "      <td>0.0</td>\n",
       "      <td>0.0</td>\n",
       "      <td>0.0</td>\n",
       "      <td>0.0</td>\n",
       "      <td>0.0</td>\n",
       "      <td>...</td>\n",
       "      <td>0.0</td>\n",
       "      <td>0.0</td>\n",
       "      <td>0.0</td>\n",
       "      <td>0.0</td>\n",
       "      <td>0.0</td>\n",
       "      <td>1.0</td>\n",
       "      <td>0.0</td>\n",
       "      <td>0.0</td>\n",
       "      <td>0.0</td>\n",
       "      <td>0.0</td>\n",
       "    </tr>\n",
       "    <tr>\n",
       "      <th>294</th>\n",
       "      <td>0.0</td>\n",
       "      <td>0.0</td>\n",
       "      <td>0.0</td>\n",
       "      <td>0.0</td>\n",
       "      <td>0.0</td>\n",
       "      <td>0.0</td>\n",
       "      <td>1.0</td>\n",
       "      <td>0.0</td>\n",
       "      <td>0.0</td>\n",
       "      <td>0.0</td>\n",
       "      <td>...</td>\n",
       "      <td>0.0</td>\n",
       "      <td>0.0</td>\n",
       "      <td>0.0</td>\n",
       "      <td>0.0</td>\n",
       "      <td>0.0</td>\n",
       "      <td>0.0</td>\n",
       "      <td>0.0</td>\n",
       "      <td>0.0</td>\n",
       "      <td>0.0</td>\n",
       "      <td>0.0</td>\n",
       "    </tr>\n",
       "    <tr>\n",
       "      <th>27846</th>\n",
       "      <td>0.0</td>\n",
       "      <td>1.0</td>\n",
       "      <td>0.0</td>\n",
       "      <td>0.0</td>\n",
       "      <td>1.0</td>\n",
       "      <td>0.0</td>\n",
       "      <td>0.0</td>\n",
       "      <td>0.0</td>\n",
       "      <td>0.0</td>\n",
       "      <td>0.0</td>\n",
       "      <td>...</td>\n",
       "      <td>1.0</td>\n",
       "      <td>0.0</td>\n",
       "      <td>0.0</td>\n",
       "      <td>0.0</td>\n",
       "      <td>0.0</td>\n",
       "      <td>0.0</td>\n",
       "      <td>0.0</td>\n",
       "      <td>0.0</td>\n",
       "      <td>0.0</td>\n",
       "      <td>0.0</td>\n",
       "    </tr>\n",
       "    <tr>\n",
       "      <th>24932</th>\n",
       "      <td>0.0</td>\n",
       "      <td>1.0</td>\n",
       "      <td>0.0</td>\n",
       "      <td>0.0</td>\n",
       "      <td>0.0</td>\n",
       "      <td>0.0</td>\n",
       "      <td>0.0</td>\n",
       "      <td>0.0</td>\n",
       "      <td>0.0</td>\n",
       "      <td>0.0</td>\n",
       "      <td>...</td>\n",
       "      <td>0.0</td>\n",
       "      <td>0.0</td>\n",
       "      <td>0.0</td>\n",
       "      <td>0.0</td>\n",
       "      <td>0.0</td>\n",
       "      <td>0.0</td>\n",
       "      <td>1.0</td>\n",
       "      <td>0.0</td>\n",
       "      <td>0.0</td>\n",
       "      <td>0.0</td>\n",
       "    </tr>\n",
       "    <tr>\n",
       "      <th>12493</th>\n",
       "      <td>0.0</td>\n",
       "      <td>1.0</td>\n",
       "      <td>0.0</td>\n",
       "      <td>0.0</td>\n",
       "      <td>0.0</td>\n",
       "      <td>0.0</td>\n",
       "      <td>0.0</td>\n",
       "      <td>0.0</td>\n",
       "      <td>0.0</td>\n",
       "      <td>0.0</td>\n",
       "      <td>...</td>\n",
       "      <td>0.0</td>\n",
       "      <td>0.0</td>\n",
       "      <td>0.0</td>\n",
       "      <td>0.0</td>\n",
       "      <td>0.0</td>\n",
       "      <td>0.0</td>\n",
       "      <td>1.0</td>\n",
       "      <td>0.0</td>\n",
       "      <td>0.0</td>\n",
       "      <td>0.0</td>\n",
       "    </tr>\n",
       "  </tbody>\n",
       "</table>\n",
       "<p>5 rows × 22 columns</p>\n",
       "</div>"
      ],
      "text/plain": [
       "       race_Asian  race_Caucasian  race_Hispanic  race_Other  gender_Male  \\\n",
       "12251         0.0             1.0            0.0         0.0          1.0   \n",
       "294           0.0             0.0            0.0         0.0          0.0   \n",
       "27846         0.0             1.0            0.0         0.0          1.0   \n",
       "24932         0.0             1.0            0.0         0.0          0.0   \n",
       "12493         0.0             1.0            0.0         0.0          0.0   \n",
       "\n",
       "       diag_1_congenital anomalies  diag_1_diabetes-related  \\\n",
       "12251                          0.0                      0.0   \n",
       "294                            0.0                      1.0   \n",
       "27846                          0.0                      0.0   \n",
       "24932                          0.0                      0.0   \n",
       "12493                          0.0                      0.0   \n",
       "\n",
       "       diag_1_diseases of the blood and blood-forming organs  \\\n",
       "12251                                                0.0       \n",
       "294                                                  0.0       \n",
       "27846                                                0.0       \n",
       "24932                                                0.0       \n",
       "12493                                                0.0       \n",
       "\n",
       "       diag_1_diseases of the circulatory system  \\\n",
       "12251                                        0.0   \n",
       "294                                          0.0   \n",
       "27846                                        0.0   \n",
       "24932                                        0.0   \n",
       "12493                                        0.0   \n",
       "\n",
       "       diag_1_diseases of the digestive system  ...  \\\n",
       "12251                                      0.0  ...   \n",
       "294                                        0.0  ...   \n",
       "27846                                      0.0  ...   \n",
       "24932                                      0.0  ...   \n",
       "12493                                      0.0  ...   \n",
       "\n",
       "       diag_1_diseases of the nervous system and sense organs  \\\n",
       "12251                                                0.0        \n",
       "294                                                  0.0        \n",
       "27846                                                1.0        \n",
       "24932                                                0.0        \n",
       "12493                                                0.0        \n",
       "\n",
       "       diag_1_diseases of the respiratory system  \\\n",
       "12251                                        0.0   \n",
       "294                                          0.0   \n",
       "27846                                        0.0   \n",
       "24932                                        0.0   \n",
       "12493                                        0.0   \n",
       "\n",
       "       diag_1_diseases of the skin and subcutaneous tissue  \\\n",
       "12251                                                0.0     \n",
       "294                                                  0.0     \n",
       "27846                                                0.0     \n",
       "24932                                                0.0     \n",
       "12493                                                0.0     \n",
       "\n",
       "       diag_1_endocrine, nutritional and metabolic diseases, and immunity disorders  \\\n",
       "12251                                                0.0                              \n",
       "294                                                  0.0                              \n",
       "27846                                                0.0                              \n",
       "24932                                                0.0                              \n",
       "12493                                                0.0                              \n",
       "\n",
       "       diag_1_external causes of injury and supplemental classification  \\\n",
       "12251                                                0.0                  \n",
       "294                                                  0.0                  \n",
       "27846                                                0.0                  \n",
       "24932                                                0.0                  \n",
       "12493                                                0.0                  \n",
       "\n",
       "       diag_1_infectious and parasitic diseases  diag_1_injury and poisoning  \\\n",
       "12251                                       1.0                          0.0   \n",
       "294                                         0.0                          0.0   \n",
       "27846                                       0.0                          0.0   \n",
       "24932                                       0.0                          1.0   \n",
       "12493                                       0.0                          1.0   \n",
       "\n",
       "       diag_1_mental disorders  diag_1_neoplasms  \\\n",
       "12251                      0.0               0.0   \n",
       "294                        0.0               0.0   \n",
       "27846                      0.0               0.0   \n",
       "24932                      0.0               0.0   \n",
       "12493                      0.0               0.0   \n",
       "\n",
       "       diag_1_symptoms, signs, and ill-defined conditions  \n",
       "12251                                                0.0   \n",
       "294                                                  0.0   \n",
       "27846                                                0.0   \n",
       "24932                                                0.0   \n",
       "12493                                                0.0   \n",
       "\n",
       "[5 rows x 22 columns]"
      ]
     },
     "execution_count": 12,
     "metadata": {},
     "output_type": "execute_result"
    }
   ],
   "source": [
    "# Repeat for test set\n",
    "X_test_cat = X_test[['race', 'gender', 'diag_1']]\n",
    "\n",
    "cats_test = ohe.transform(X_test_cat)\n",
    "\n",
    "cat_columns = ohe.get_feature_names(['race', 'gender', 'diag_1'])\n",
    "X_test_cat_df = pd.DataFrame(cats_test, columns=cat_columns, index=X_test_cat.index)\n",
    "X_test_cat_df.head()"
   ]
  },
  {
   "cell_type": "code",
   "execution_count": 13,
   "metadata": {},
   "outputs": [
    {
     "data": {
      "text/html": [
       "<div>\n",
       "<style scoped>\n",
       "    .dataframe tbody tr th:only-of-type {\n",
       "        vertical-align: middle;\n",
       "    }\n",
       "\n",
       "    .dataframe tbody tr th {\n",
       "        vertical-align: top;\n",
       "    }\n",
       "\n",
       "    .dataframe thead th {\n",
       "        text-align: right;\n",
       "    }\n",
       "</style>\n",
       "<table border=\"1\" class=\"dataframe\">\n",
       "  <thead>\n",
       "    <tr style=\"text-align: right;\">\n",
       "      <th></th>\n",
       "      <th>race_Asian</th>\n",
       "      <th>race_Caucasian</th>\n",
       "      <th>race_Hispanic</th>\n",
       "      <th>race_Other</th>\n",
       "      <th>gender_Male</th>\n",
       "      <th>diag_1_congenital anomalies</th>\n",
       "      <th>diag_1_diabetes-related</th>\n",
       "      <th>diag_1_diseases of the blood and blood-forming organs</th>\n",
       "      <th>diag_1_diseases of the circulatory system</th>\n",
       "      <th>diag_1_diseases of the digestive system</th>\n",
       "      <th>...</th>\n",
       "      <th>diag_1_diseases of the nervous system and sense organs</th>\n",
       "      <th>diag_1_diseases of the respiratory system</th>\n",
       "      <th>diag_1_diseases of the skin and subcutaneous tissue</th>\n",
       "      <th>diag_1_endocrine, nutritional and metabolic diseases, and immunity disorders</th>\n",
       "      <th>diag_1_external causes of injury and supplemental classification</th>\n",
       "      <th>diag_1_infectious and parasitic diseases</th>\n",
       "      <th>diag_1_injury and poisoning</th>\n",
       "      <th>diag_1_mental disorders</th>\n",
       "      <th>diag_1_neoplasms</th>\n",
       "      <th>diag_1_symptoms, signs, and ill-defined conditions</th>\n",
       "    </tr>\n",
       "  </thead>\n",
       "  <tbody>\n",
       "    <tr>\n",
       "      <th>25681</th>\n",
       "      <td>0.0</td>\n",
       "      <td>1.0</td>\n",
       "      <td>0.0</td>\n",
       "      <td>0.0</td>\n",
       "      <td>0.0</td>\n",
       "      <td>0.0</td>\n",
       "      <td>0.0</td>\n",
       "      <td>0.0</td>\n",
       "      <td>0.0</td>\n",
       "      <td>0.0</td>\n",
       "      <td>...</td>\n",
       "      <td>0.0</td>\n",
       "      <td>0.0</td>\n",
       "      <td>0.0</td>\n",
       "      <td>0.0</td>\n",
       "      <td>0.0</td>\n",
       "      <td>0.0</td>\n",
       "      <td>1.0</td>\n",
       "      <td>0.0</td>\n",
       "      <td>0.0</td>\n",
       "      <td>0.0</td>\n",
       "    </tr>\n",
       "    <tr>\n",
       "      <th>10685</th>\n",
       "      <td>0.0</td>\n",
       "      <td>1.0</td>\n",
       "      <td>0.0</td>\n",
       "      <td>0.0</td>\n",
       "      <td>0.0</td>\n",
       "      <td>0.0</td>\n",
       "      <td>0.0</td>\n",
       "      <td>0.0</td>\n",
       "      <td>0.0</td>\n",
       "      <td>0.0</td>\n",
       "      <td>...</td>\n",
       "      <td>0.0</td>\n",
       "      <td>1.0</td>\n",
       "      <td>0.0</td>\n",
       "      <td>0.0</td>\n",
       "      <td>0.0</td>\n",
       "      <td>0.0</td>\n",
       "      <td>0.0</td>\n",
       "      <td>0.0</td>\n",
       "      <td>0.0</td>\n",
       "      <td>0.0</td>\n",
       "    </tr>\n",
       "    <tr>\n",
       "      <th>12392</th>\n",
       "      <td>0.0</td>\n",
       "      <td>1.0</td>\n",
       "      <td>0.0</td>\n",
       "      <td>0.0</td>\n",
       "      <td>1.0</td>\n",
       "      <td>0.0</td>\n",
       "      <td>0.0</td>\n",
       "      <td>0.0</td>\n",
       "      <td>0.0</td>\n",
       "      <td>0.0</td>\n",
       "      <td>...</td>\n",
       "      <td>0.0</td>\n",
       "      <td>0.0</td>\n",
       "      <td>0.0</td>\n",
       "      <td>0.0</td>\n",
       "      <td>0.0</td>\n",
       "      <td>0.0</td>\n",
       "      <td>0.0</td>\n",
       "      <td>0.0</td>\n",
       "      <td>1.0</td>\n",
       "      <td>0.0</td>\n",
       "    </tr>\n",
       "    <tr>\n",
       "      <th>23686</th>\n",
       "      <td>0.0</td>\n",
       "      <td>0.0</td>\n",
       "      <td>0.0</td>\n",
       "      <td>0.0</td>\n",
       "      <td>0.0</td>\n",
       "      <td>0.0</td>\n",
       "      <td>0.0</td>\n",
       "      <td>0.0</td>\n",
       "      <td>0.0</td>\n",
       "      <td>0.0</td>\n",
       "      <td>...</td>\n",
       "      <td>0.0</td>\n",
       "      <td>0.0</td>\n",
       "      <td>0.0</td>\n",
       "      <td>0.0</td>\n",
       "      <td>0.0</td>\n",
       "      <td>0.0</td>\n",
       "      <td>1.0</td>\n",
       "      <td>0.0</td>\n",
       "      <td>0.0</td>\n",
       "      <td>0.0</td>\n",
       "    </tr>\n",
       "    <tr>\n",
       "      <th>39038</th>\n",
       "      <td>0.0</td>\n",
       "      <td>1.0</td>\n",
       "      <td>0.0</td>\n",
       "      <td>0.0</td>\n",
       "      <td>0.0</td>\n",
       "      <td>0.0</td>\n",
       "      <td>0.0</td>\n",
       "      <td>0.0</td>\n",
       "      <td>1.0</td>\n",
       "      <td>0.0</td>\n",
       "      <td>...</td>\n",
       "      <td>0.0</td>\n",
       "      <td>0.0</td>\n",
       "      <td>0.0</td>\n",
       "      <td>0.0</td>\n",
       "      <td>0.0</td>\n",
       "      <td>0.0</td>\n",
       "      <td>0.0</td>\n",
       "      <td>0.0</td>\n",
       "      <td>0.0</td>\n",
       "      <td>0.0</td>\n",
       "    </tr>\n",
       "  </tbody>\n",
       "</table>\n",
       "<p>5 rows × 22 columns</p>\n",
       "</div>"
      ],
      "text/plain": [
       "       race_Asian  race_Caucasian  race_Hispanic  race_Other  gender_Male  \\\n",
       "25681         0.0             1.0            0.0         0.0          0.0   \n",
       "10685         0.0             1.0            0.0         0.0          0.0   \n",
       "12392         0.0             1.0            0.0         0.0          1.0   \n",
       "23686         0.0             0.0            0.0         0.0          0.0   \n",
       "39038         0.0             1.0            0.0         0.0          0.0   \n",
       "\n",
       "       diag_1_congenital anomalies  diag_1_diabetes-related  \\\n",
       "25681                          0.0                      0.0   \n",
       "10685                          0.0                      0.0   \n",
       "12392                          0.0                      0.0   \n",
       "23686                          0.0                      0.0   \n",
       "39038                          0.0                      0.0   \n",
       "\n",
       "       diag_1_diseases of the blood and blood-forming organs  \\\n",
       "25681                                                0.0       \n",
       "10685                                                0.0       \n",
       "12392                                                0.0       \n",
       "23686                                                0.0       \n",
       "39038                                                0.0       \n",
       "\n",
       "       diag_1_diseases of the circulatory system  \\\n",
       "25681                                        0.0   \n",
       "10685                                        0.0   \n",
       "12392                                        0.0   \n",
       "23686                                        0.0   \n",
       "39038                                        1.0   \n",
       "\n",
       "       diag_1_diseases of the digestive system  ...  \\\n",
       "25681                                      0.0  ...   \n",
       "10685                                      0.0  ...   \n",
       "12392                                      0.0  ...   \n",
       "23686                                      0.0  ...   \n",
       "39038                                      0.0  ...   \n",
       "\n",
       "       diag_1_diseases of the nervous system and sense organs  \\\n",
       "25681                                                0.0        \n",
       "10685                                                0.0        \n",
       "12392                                                0.0        \n",
       "23686                                                0.0        \n",
       "39038                                                0.0        \n",
       "\n",
       "       diag_1_diseases of the respiratory system  \\\n",
       "25681                                        0.0   \n",
       "10685                                        1.0   \n",
       "12392                                        0.0   \n",
       "23686                                        0.0   \n",
       "39038                                        0.0   \n",
       "\n",
       "       diag_1_diseases of the skin and subcutaneous tissue  \\\n",
       "25681                                                0.0     \n",
       "10685                                                0.0     \n",
       "12392                                                0.0     \n",
       "23686                                                0.0     \n",
       "39038                                                0.0     \n",
       "\n",
       "       diag_1_endocrine, nutritional and metabolic diseases, and immunity disorders  \\\n",
       "25681                                                0.0                              \n",
       "10685                                                0.0                              \n",
       "12392                                                0.0                              \n",
       "23686                                                0.0                              \n",
       "39038                                                0.0                              \n",
       "\n",
       "       diag_1_external causes of injury and supplemental classification  \\\n",
       "25681                                                0.0                  \n",
       "10685                                                0.0                  \n",
       "12392                                                0.0                  \n",
       "23686                                                0.0                  \n",
       "39038                                                0.0                  \n",
       "\n",
       "       diag_1_infectious and parasitic diseases  diag_1_injury and poisoning  \\\n",
       "25681                                       0.0                          1.0   \n",
       "10685                                       0.0                          0.0   \n",
       "12392                                       0.0                          0.0   \n",
       "23686                                       0.0                          1.0   \n",
       "39038                                       0.0                          0.0   \n",
       "\n",
       "       diag_1_mental disorders  diag_1_neoplasms  \\\n",
       "25681                      0.0               0.0   \n",
       "10685                      0.0               0.0   \n",
       "12392                      0.0               1.0   \n",
       "23686                      0.0               0.0   \n",
       "39038                      0.0               0.0   \n",
       "\n",
       "       diag_1_symptoms, signs, and ill-defined conditions  \n",
       "25681                                                0.0   \n",
       "10685                                                0.0   \n",
       "12392                                                0.0   \n",
       "23686                                                0.0   \n",
       "39038                                                0.0   \n",
       "\n",
       "[5 rows x 22 columns]"
      ]
     },
     "execution_count": 13,
     "metadata": {},
     "output_type": "execute_result"
    }
   ],
   "source": [
    "# Repeat for validation set\n",
    "X_val_cat = X_val[['race', 'gender', 'diag_1']]\n",
    "\n",
    "cats_val = ohe.transform(X_val_cat)\n",
    "\n",
    "cat_columns = ohe.get_feature_names(['race', 'gender', 'diag_1'])\n",
    "X_val_cat_df = pd.DataFrame(cats_val, columns=cat_columns, index=X_val_cat.index)\n",
    "X_val_cat_df.head()"
   ]
  },
  {
   "cell_type": "code",
   "execution_count": 14,
   "metadata": {},
   "outputs": [
    {
     "data": {
      "text/html": [
       "<div>\n",
       "<style scoped>\n",
       "    .dataframe tbody tr th:only-of-type {\n",
       "        vertical-align: middle;\n",
       "    }\n",
       "\n",
       "    .dataframe tbody tr th {\n",
       "        vertical-align: top;\n",
       "    }\n",
       "\n",
       "    .dataframe thead th {\n",
       "        text-align: right;\n",
       "    }\n",
       "</style>\n",
       "<table border=\"1\" class=\"dataframe\">\n",
       "  <thead>\n",
       "    <tr style=\"text-align: right;\">\n",
       "      <th></th>\n",
       "      <th>age</th>\n",
       "      <th>admission_type_id</th>\n",
       "      <th>discharge_disposition_id</th>\n",
       "      <th>time_in_hospital</th>\n",
       "      <th>num_procedures</th>\n",
       "      <th>num_medications</th>\n",
       "    </tr>\n",
       "  </thead>\n",
       "  <tbody>\n",
       "    <tr>\n",
       "      <th>32808</th>\n",
       "      <td>75</td>\n",
       "      <td>1</td>\n",
       "      <td>1</td>\n",
       "      <td>1</td>\n",
       "      <td>0</td>\n",
       "      <td>12</td>\n",
       "    </tr>\n",
       "    <tr>\n",
       "      <th>17840</th>\n",
       "      <td>75</td>\n",
       "      <td>2</td>\n",
       "      <td>1</td>\n",
       "      <td>1</td>\n",
       "      <td>6</td>\n",
       "      <td>15</td>\n",
       "    </tr>\n",
       "    <tr>\n",
       "      <th>20047</th>\n",
       "      <td>85</td>\n",
       "      <td>1</td>\n",
       "      <td>3</td>\n",
       "      <td>2</td>\n",
       "      <td>2</td>\n",
       "      <td>13</td>\n",
       "    </tr>\n",
       "    <tr>\n",
       "      <th>31796</th>\n",
       "      <td>35</td>\n",
       "      <td>1</td>\n",
       "      <td>1</td>\n",
       "      <td>1</td>\n",
       "      <td>0</td>\n",
       "      <td>10</td>\n",
       "    </tr>\n",
       "    <tr>\n",
       "      <th>8831</th>\n",
       "      <td>85</td>\n",
       "      <td>2</td>\n",
       "      <td>11</td>\n",
       "      <td>3</td>\n",
       "      <td>1</td>\n",
       "      <td>3</td>\n",
       "    </tr>\n",
       "  </tbody>\n",
       "</table>\n",
       "</div>"
      ],
      "text/plain": [
       "       age  admission_type_id  discharge_disposition_id  time_in_hospital  \\\n",
       "32808   75                  1                         1                 1   \n",
       "17840   75                  2                         1                 1   \n",
       "20047   85                  1                         3                 2   \n",
       "31796   35                  1                         1                 1   \n",
       "8831    85                  2                        11                 3   \n",
       "\n",
       "       num_procedures  num_medications  \n",
       "32808               0               12  \n",
       "17840               6               15  \n",
       "20047               2               13  \n",
       "31796               0               10  \n",
       "8831                1                3  "
      ]
     },
     "execution_count": 14,
     "metadata": {},
     "output_type": "execute_result"
    }
   ],
   "source": [
    "# Pre-process continous variables\n",
    "X_train_cont = X_train[['age', 'admission_type_id', 'discharge_disposition_id',\n",
    "                        'time_in_hospital', 'num_procedures', 'num_medications']]\n",
    "\n",
    "X_train_cont.head()"
   ]
  },
  {
   "cell_type": "code",
   "execution_count": 15,
   "metadata": {},
   "outputs": [
    {
     "data": {
      "text/html": [
       "<div>\n",
       "<style scoped>\n",
       "    .dataframe tbody tr th:only-of-type {\n",
       "        vertical-align: middle;\n",
       "    }\n",
       "\n",
       "    .dataframe tbody tr th {\n",
       "        vertical-align: top;\n",
       "    }\n",
       "\n",
       "    .dataframe thead th {\n",
       "        text-align: right;\n",
       "    }\n",
       "</style>\n",
       "<table border=\"1\" class=\"dataframe\">\n",
       "  <thead>\n",
       "    <tr style=\"text-align: right;\">\n",
       "      <th></th>\n",
       "      <th>age</th>\n",
       "      <th>admission_type_id</th>\n",
       "      <th>discharge_disposition_id</th>\n",
       "      <th>time_in_hospital</th>\n",
       "      <th>num_procedures</th>\n",
       "      <th>num_medications</th>\n",
       "    </tr>\n",
       "  </thead>\n",
       "  <tbody>\n",
       "    <tr>\n",
       "      <th>32808</th>\n",
       "      <td>0.524942</td>\n",
       "      <td>-0.741534</td>\n",
       "      <td>-0.491223</td>\n",
       "      <td>-1.103291</td>\n",
       "      <td>-0.774528</td>\n",
       "      <td>-0.498613</td>\n",
       "    </tr>\n",
       "    <tr>\n",
       "      <th>17840</th>\n",
       "      <td>0.524942</td>\n",
       "      <td>0.176692</td>\n",
       "      <td>-0.491223</td>\n",
       "      <td>-1.103291</td>\n",
       "      <td>2.760324</td>\n",
       "      <td>-0.126908</td>\n",
       "    </tr>\n",
       "    <tr>\n",
       "      <th>20047</th>\n",
       "      <td>1.167596</td>\n",
       "      <td>-0.741534</td>\n",
       "      <td>-0.007445</td>\n",
       "      <td>-0.758083</td>\n",
       "      <td>0.403756</td>\n",
       "      <td>-0.374711</td>\n",
       "    </tr>\n",
       "    <tr>\n",
       "      <th>31796</th>\n",
       "      <td>-2.045670</td>\n",
       "      <td>-0.741534</td>\n",
       "      <td>-0.491223</td>\n",
       "      <td>-1.103291</td>\n",
       "      <td>-0.774528</td>\n",
       "      <td>-0.746416</td>\n",
       "    </tr>\n",
       "    <tr>\n",
       "      <th>8831</th>\n",
       "      <td>1.167596</td>\n",
       "      <td>0.176692</td>\n",
       "      <td>1.927666</td>\n",
       "      <td>-0.412875</td>\n",
       "      <td>-0.185386</td>\n",
       "      <td>-1.613727</td>\n",
       "    </tr>\n",
       "  </tbody>\n",
       "</table>\n",
       "</div>"
      ],
      "text/plain": [
       "            age  admission_type_id  discharge_disposition_id  \\\n",
       "32808  0.524942          -0.741534                 -0.491223   \n",
       "17840  0.524942           0.176692                 -0.491223   \n",
       "20047  1.167596          -0.741534                 -0.007445   \n",
       "31796 -2.045670          -0.741534                 -0.491223   \n",
       "8831   1.167596           0.176692                  1.927666   \n",
       "\n",
       "       time_in_hospital  num_procedures  num_medications  \n",
       "32808         -1.103291       -0.774528        -0.498613  \n",
       "17840         -1.103291        2.760324        -0.126908  \n",
       "20047         -0.758083        0.403756        -0.374711  \n",
       "31796         -1.103291       -0.774528        -0.746416  \n",
       "8831          -0.412875       -0.185386        -1.613727  "
      ]
     },
     "execution_count": 15,
     "metadata": {},
     "output_type": "execute_result"
    }
   ],
   "source": [
    "# Standardize continous variable\n",
    "from sklearn.preprocessing import StandardScaler\n",
    "\n",
    "ss = StandardScaler()\n",
    "\n",
    "ss.fit(X_train_cont)\n",
    "X_train_scaled = ss.transform(X_train_cont)\n",
    "\n",
    "cont_columns = X_train_cont.columns\n",
    "X_train_scaled_df = pd.DataFrame(X_train_scaled, columns=cont_columns, index=X_train_cont.index)\n",
    "\n",
    "X_train_scaled_df.head()"
   ]
  },
  {
   "cell_type": "code",
   "execution_count": 16,
   "metadata": {},
   "outputs": [
    {
     "data": {
      "text/html": [
       "<div>\n",
       "<style scoped>\n",
       "    .dataframe tbody tr th:only-of-type {\n",
       "        vertical-align: middle;\n",
       "    }\n",
       "\n",
       "    .dataframe tbody tr th {\n",
       "        vertical-align: top;\n",
       "    }\n",
       "\n",
       "    .dataframe thead th {\n",
       "        text-align: right;\n",
       "    }\n",
       "</style>\n",
       "<table border=\"1\" class=\"dataframe\">\n",
       "  <thead>\n",
       "    <tr style=\"text-align: right;\">\n",
       "      <th></th>\n",
       "      <th>age</th>\n",
       "      <th>admission_type_id</th>\n",
       "      <th>discharge_disposition_id</th>\n",
       "      <th>time_in_hospital</th>\n",
       "      <th>num_procedures</th>\n",
       "      <th>num_medications</th>\n",
       "    </tr>\n",
       "  </thead>\n",
       "  <tbody>\n",
       "    <tr>\n",
       "      <th>12251</th>\n",
       "      <td>-0.760364</td>\n",
       "      <td>-0.741534</td>\n",
       "      <td>1.927666</td>\n",
       "      <td>-1.103291</td>\n",
       "      <td>0.403756</td>\n",
       "      <td>-0.126908</td>\n",
       "    </tr>\n",
       "    <tr>\n",
       "      <th>294</th>\n",
       "      <td>1.167596</td>\n",
       "      <td>-0.741534</td>\n",
       "      <td>-0.491223</td>\n",
       "      <td>-0.412875</td>\n",
       "      <td>-0.185386</td>\n",
       "      <td>-0.994219</td>\n",
       "    </tr>\n",
       "    <tr>\n",
       "      <th>27846</th>\n",
       "      <td>1.167596</td>\n",
       "      <td>1.094918</td>\n",
       "      <td>-0.007445</td>\n",
       "      <td>3.039204</td>\n",
       "      <td>-0.774528</td>\n",
       "      <td>-0.003007</td>\n",
       "    </tr>\n",
       "    <tr>\n",
       "      <th>24932</th>\n",
       "      <td>-0.117711</td>\n",
       "      <td>0.176692</td>\n",
       "      <td>-0.007445</td>\n",
       "      <td>0.622749</td>\n",
       "      <td>0.403756</td>\n",
       "      <td>0.120895</td>\n",
       "    </tr>\n",
       "    <tr>\n",
       "      <th>12493</th>\n",
       "      <td>-0.117711</td>\n",
       "      <td>-0.741534</td>\n",
       "      <td>-0.249334</td>\n",
       "      <td>-1.103291</td>\n",
       "      <td>-0.774528</td>\n",
       "      <td>-0.994219</td>\n",
       "    </tr>\n",
       "  </tbody>\n",
       "</table>\n",
       "</div>"
      ],
      "text/plain": [
       "            age  admission_type_id  discharge_disposition_id  \\\n",
       "12251 -0.760364          -0.741534                  1.927666   \n",
       "294    1.167596          -0.741534                 -0.491223   \n",
       "27846  1.167596           1.094918                 -0.007445   \n",
       "24932 -0.117711           0.176692                 -0.007445   \n",
       "12493 -0.117711          -0.741534                 -0.249334   \n",
       "\n",
       "       time_in_hospital  num_procedures  num_medications  \n",
       "12251         -1.103291        0.403756        -0.126908  \n",
       "294           -0.412875       -0.185386        -0.994219  \n",
       "27846          3.039204       -0.774528        -0.003007  \n",
       "24932          0.622749        0.403756         0.120895  \n",
       "12493         -1.103291       -0.774528        -0.994219  "
      ]
     },
     "execution_count": 16,
     "metadata": {},
     "output_type": "execute_result"
    }
   ],
   "source": [
    "# Repeat for test set\n",
    "X_test_cont = X_test[['age', 'admission_type_id', 'discharge_disposition_id',\n",
    "                        'time_in_hospital', 'num_procedures', 'num_medications']]\n",
    "\n",
    "X_test_scaled = ss.transform(X_test_cont)\n",
    "\n",
    "cont_columns = X_test_cont.columns\n",
    "X_test_scaled_df = pd.DataFrame(X_test_scaled, columns=cont_columns, index=X_test_cont.index)\n",
    "\n",
    "X_test_scaled_df.head()"
   ]
  },
  {
   "cell_type": "code",
   "execution_count": 17,
   "metadata": {},
   "outputs": [
    {
     "data": {
      "text/html": [
       "<div>\n",
       "<style scoped>\n",
       "    .dataframe tbody tr th:only-of-type {\n",
       "        vertical-align: middle;\n",
       "    }\n",
       "\n",
       "    .dataframe tbody tr th {\n",
       "        vertical-align: top;\n",
       "    }\n",
       "\n",
       "    .dataframe thead th {\n",
       "        text-align: right;\n",
       "    }\n",
       "</style>\n",
       "<table border=\"1\" class=\"dataframe\">\n",
       "  <thead>\n",
       "    <tr style=\"text-align: right;\">\n",
       "      <th></th>\n",
       "      <th>age</th>\n",
       "      <th>admission_type_id</th>\n",
       "      <th>discharge_disposition_id</th>\n",
       "      <th>time_in_hospital</th>\n",
       "      <th>num_procedures</th>\n",
       "      <th>num_medications</th>\n",
       "    </tr>\n",
       "  </thead>\n",
       "  <tbody>\n",
       "    <tr>\n",
       "      <th>25681</th>\n",
       "      <td>0.524942</td>\n",
       "      <td>-0.741534</td>\n",
       "      <td>-0.007445</td>\n",
       "      <td>-0.067667</td>\n",
       "      <td>0.403756</td>\n",
       "      <td>0.120895</td>\n",
       "    </tr>\n",
       "    <tr>\n",
       "      <th>10685</th>\n",
       "      <td>1.167596</td>\n",
       "      <td>-0.741534</td>\n",
       "      <td>-0.007445</td>\n",
       "      <td>-0.412875</td>\n",
       "      <td>-0.185386</td>\n",
       "      <td>-0.250810</td>\n",
       "    </tr>\n",
       "    <tr>\n",
       "      <th>12392</th>\n",
       "      <td>0.524942</td>\n",
       "      <td>1.094918</td>\n",
       "      <td>1.927666</td>\n",
       "      <td>-0.067667</td>\n",
       "      <td>-0.185386</td>\n",
       "      <td>0.492599</td>\n",
       "    </tr>\n",
       "    <tr>\n",
       "      <th>23686</th>\n",
       "      <td>-0.760364</td>\n",
       "      <td>-0.741534</td>\n",
       "      <td>-0.007445</td>\n",
       "      <td>0.277541</td>\n",
       "      <td>-0.185386</td>\n",
       "      <td>0.864304</td>\n",
       "    </tr>\n",
       "    <tr>\n",
       "      <th>39038</th>\n",
       "      <td>0.524942</td>\n",
       "      <td>-0.741534</td>\n",
       "      <td>-0.491223</td>\n",
       "      <td>-0.758083</td>\n",
       "      <td>2.760324</td>\n",
       "      <td>0.492599</td>\n",
       "    </tr>\n",
       "  </tbody>\n",
       "</table>\n",
       "</div>"
      ],
      "text/plain": [
       "            age  admission_type_id  discharge_disposition_id  \\\n",
       "25681  0.524942          -0.741534                 -0.007445   \n",
       "10685  1.167596          -0.741534                 -0.007445   \n",
       "12392  0.524942           1.094918                  1.927666   \n",
       "23686 -0.760364          -0.741534                 -0.007445   \n",
       "39038  0.524942          -0.741534                 -0.491223   \n",
       "\n",
       "       time_in_hospital  num_procedures  num_medications  \n",
       "25681         -0.067667        0.403756         0.120895  \n",
       "10685         -0.412875       -0.185386        -0.250810  \n",
       "12392         -0.067667       -0.185386         0.492599  \n",
       "23686          0.277541       -0.185386         0.864304  \n",
       "39038         -0.758083        2.760324         0.492599  "
      ]
     },
     "execution_count": 17,
     "metadata": {},
     "output_type": "execute_result"
    }
   ],
   "source": [
    "# Repeat for validation set\n",
    "X_val_cont = X_val[['age', 'admission_type_id', 'discharge_disposition_id',\n",
    "                        'time_in_hospital', 'num_procedures', 'num_medications']]\n",
    "\n",
    "X_val_scaled = ss.transform(X_val_cont)\n",
    "\n",
    "cont_columns = X_val_cont.columns\n",
    "X_val_scaled_df = pd.DataFrame(X_val_scaled, columns=cont_columns, index=X_val_cont.index)\n",
    "\n",
    "X_val_scaled_df.head()"
   ]
  },
  {
   "cell_type": "code",
   "execution_count": 18,
   "metadata": {},
   "outputs": [
    {
     "data": {
      "text/html": [
       "<div>\n",
       "<style scoped>\n",
       "    .dataframe tbody tr th:only-of-type {\n",
       "        vertical-align: middle;\n",
       "    }\n",
       "\n",
       "    .dataframe tbody tr th {\n",
       "        vertical-align: top;\n",
       "    }\n",
       "\n",
       "    .dataframe thead th {\n",
       "        text-align: right;\n",
       "    }\n",
       "</style>\n",
       "<table border=\"1\" class=\"dataframe\">\n",
       "  <thead>\n",
       "    <tr style=\"text-align: right;\">\n",
       "      <th></th>\n",
       "      <th>race_Asian</th>\n",
       "      <th>race_Caucasian</th>\n",
       "      <th>race_Hispanic</th>\n",
       "      <th>race_Other</th>\n",
       "      <th>gender_Male</th>\n",
       "      <th>diag_1_congenital anomalies</th>\n",
       "      <th>diag_1_diabetes-related</th>\n",
       "      <th>diag_1_diseases of the blood and blood-forming organs</th>\n",
       "      <th>diag_1_diseases of the circulatory system</th>\n",
       "      <th>diag_1_diseases of the digestive system</th>\n",
       "      <th>...</th>\n",
       "      <th>diag_1_injury and poisoning</th>\n",
       "      <th>diag_1_mental disorders</th>\n",
       "      <th>diag_1_neoplasms</th>\n",
       "      <th>diag_1_symptoms, signs, and ill-defined conditions</th>\n",
       "      <th>age</th>\n",
       "      <th>admission_type_id</th>\n",
       "      <th>discharge_disposition_id</th>\n",
       "      <th>time_in_hospital</th>\n",
       "      <th>num_procedures</th>\n",
       "      <th>num_medications</th>\n",
       "    </tr>\n",
       "  </thead>\n",
       "  <tbody>\n",
       "    <tr>\n",
       "      <th>32808</th>\n",
       "      <td>0.0</td>\n",
       "      <td>0.0</td>\n",
       "      <td>0.0</td>\n",
       "      <td>0.0</td>\n",
       "      <td>1.0</td>\n",
       "      <td>0.0</td>\n",
       "      <td>0.0</td>\n",
       "      <td>0.0</td>\n",
       "      <td>0.0</td>\n",
       "      <td>0.0</td>\n",
       "      <td>...</td>\n",
       "      <td>0.0</td>\n",
       "      <td>0.0</td>\n",
       "      <td>0.0</td>\n",
       "      <td>0.0</td>\n",
       "      <td>0.524942</td>\n",
       "      <td>-0.741534</td>\n",
       "      <td>-0.491223</td>\n",
       "      <td>-1.103291</td>\n",
       "      <td>-0.774528</td>\n",
       "      <td>-0.498613</td>\n",
       "    </tr>\n",
       "    <tr>\n",
       "      <th>17840</th>\n",
       "      <td>0.0</td>\n",
       "      <td>1.0</td>\n",
       "      <td>0.0</td>\n",
       "      <td>0.0</td>\n",
       "      <td>1.0</td>\n",
       "      <td>0.0</td>\n",
       "      <td>0.0</td>\n",
       "      <td>0.0</td>\n",
       "      <td>1.0</td>\n",
       "      <td>0.0</td>\n",
       "      <td>...</td>\n",
       "      <td>0.0</td>\n",
       "      <td>0.0</td>\n",
       "      <td>0.0</td>\n",
       "      <td>0.0</td>\n",
       "      <td>0.524942</td>\n",
       "      <td>0.176692</td>\n",
       "      <td>-0.491223</td>\n",
       "      <td>-1.103291</td>\n",
       "      <td>2.760324</td>\n",
       "      <td>-0.126908</td>\n",
       "    </tr>\n",
       "    <tr>\n",
       "      <th>20047</th>\n",
       "      <td>0.0</td>\n",
       "      <td>1.0</td>\n",
       "      <td>0.0</td>\n",
       "      <td>0.0</td>\n",
       "      <td>0.0</td>\n",
       "      <td>0.0</td>\n",
       "      <td>0.0</td>\n",
       "      <td>0.0</td>\n",
       "      <td>0.0</td>\n",
       "      <td>0.0</td>\n",
       "      <td>...</td>\n",
       "      <td>1.0</td>\n",
       "      <td>0.0</td>\n",
       "      <td>0.0</td>\n",
       "      <td>0.0</td>\n",
       "      <td>1.167596</td>\n",
       "      <td>-0.741534</td>\n",
       "      <td>-0.007445</td>\n",
       "      <td>-0.758083</td>\n",
       "      <td>0.403756</td>\n",
       "      <td>-0.374711</td>\n",
       "    </tr>\n",
       "    <tr>\n",
       "      <th>31796</th>\n",
       "      <td>0.0</td>\n",
       "      <td>0.0</td>\n",
       "      <td>0.0</td>\n",
       "      <td>1.0</td>\n",
       "      <td>0.0</td>\n",
       "      <td>0.0</td>\n",
       "      <td>1.0</td>\n",
       "      <td>0.0</td>\n",
       "      <td>0.0</td>\n",
       "      <td>0.0</td>\n",
       "      <td>...</td>\n",
       "      <td>0.0</td>\n",
       "      <td>0.0</td>\n",
       "      <td>0.0</td>\n",
       "      <td>0.0</td>\n",
       "      <td>-2.045670</td>\n",
       "      <td>-0.741534</td>\n",
       "      <td>-0.491223</td>\n",
       "      <td>-1.103291</td>\n",
       "      <td>-0.774528</td>\n",
       "      <td>-0.746416</td>\n",
       "    </tr>\n",
       "    <tr>\n",
       "      <th>8831</th>\n",
       "      <td>0.0</td>\n",
       "      <td>1.0</td>\n",
       "      <td>0.0</td>\n",
       "      <td>0.0</td>\n",
       "      <td>0.0</td>\n",
       "      <td>0.0</td>\n",
       "      <td>0.0</td>\n",
       "      <td>0.0</td>\n",
       "      <td>0.0</td>\n",
       "      <td>0.0</td>\n",
       "      <td>...</td>\n",
       "      <td>0.0</td>\n",
       "      <td>0.0</td>\n",
       "      <td>0.0</td>\n",
       "      <td>0.0</td>\n",
       "      <td>1.167596</td>\n",
       "      <td>0.176692</td>\n",
       "      <td>1.927666</td>\n",
       "      <td>-0.412875</td>\n",
       "      <td>-0.185386</td>\n",
       "      <td>-1.613727</td>\n",
       "    </tr>\n",
       "  </tbody>\n",
       "</table>\n",
       "<p>5 rows × 28 columns</p>\n",
       "</div>"
      ],
      "text/plain": [
       "       race_Asian  race_Caucasian  race_Hispanic  race_Other  gender_Male  \\\n",
       "32808         0.0             0.0            0.0         0.0          1.0   \n",
       "17840         0.0             1.0            0.0         0.0          1.0   \n",
       "20047         0.0             1.0            0.0         0.0          0.0   \n",
       "31796         0.0             0.0            0.0         1.0          0.0   \n",
       "8831          0.0             1.0            0.0         0.0          0.0   \n",
       "\n",
       "       diag_1_congenital anomalies  diag_1_diabetes-related  \\\n",
       "32808                          0.0                      0.0   \n",
       "17840                          0.0                      0.0   \n",
       "20047                          0.0                      0.0   \n",
       "31796                          0.0                      1.0   \n",
       "8831                           0.0                      0.0   \n",
       "\n",
       "       diag_1_diseases of the blood and blood-forming organs  \\\n",
       "32808                                                0.0       \n",
       "17840                                                0.0       \n",
       "20047                                                0.0       \n",
       "31796                                                0.0       \n",
       "8831                                                 0.0       \n",
       "\n",
       "       diag_1_diseases of the circulatory system  \\\n",
       "32808                                        0.0   \n",
       "17840                                        1.0   \n",
       "20047                                        0.0   \n",
       "31796                                        0.0   \n",
       "8831                                         0.0   \n",
       "\n",
       "       diag_1_diseases of the digestive system  ...  \\\n",
       "32808                                      0.0  ...   \n",
       "17840                                      0.0  ...   \n",
       "20047                                      0.0  ...   \n",
       "31796                                      0.0  ...   \n",
       "8831                                       0.0  ...   \n",
       "\n",
       "       diag_1_injury and poisoning  diag_1_mental disorders  diag_1_neoplasms  \\\n",
       "32808                          0.0                      0.0               0.0   \n",
       "17840                          0.0                      0.0               0.0   \n",
       "20047                          1.0                      0.0               0.0   \n",
       "31796                          0.0                      0.0               0.0   \n",
       "8831                           0.0                      0.0               0.0   \n",
       "\n",
       "       diag_1_symptoms, signs, and ill-defined conditions       age  \\\n",
       "32808                                                0.0   0.524942   \n",
       "17840                                                0.0   0.524942   \n",
       "20047                                                0.0   1.167596   \n",
       "31796                                                0.0  -2.045670   \n",
       "8831                                                 0.0   1.167596   \n",
       "\n",
       "       admission_type_id  discharge_disposition_id  time_in_hospital  \\\n",
       "32808          -0.741534                 -0.491223         -1.103291   \n",
       "17840           0.176692                 -0.491223         -1.103291   \n",
       "20047          -0.741534                 -0.007445         -0.758083   \n",
       "31796          -0.741534                 -0.491223         -1.103291   \n",
       "8831            0.176692                  1.927666         -0.412875   \n",
       "\n",
       "       num_procedures  num_medications  \n",
       "32808       -0.774528        -0.498613  \n",
       "17840        2.760324        -0.126908  \n",
       "20047        0.403756        -0.374711  \n",
       "31796       -0.774528        -0.746416  \n",
       "8831        -0.185386        -1.613727  \n",
       "\n",
       "[5 rows x 28 columns]"
      ]
     },
     "execution_count": 18,
     "metadata": {},
     "output_type": "execute_result"
    }
   ],
   "source": [
    "# Combine continous and categorical features for train set\n",
    "X_train_combined = pd.concat([X_train_cat_df, X_train_scaled_df], axis='columns')\n",
    "\n",
    "X_train_combined.head()"
   ]
  },
  {
   "cell_type": "code",
   "execution_count": 19,
   "metadata": {},
   "outputs": [
    {
     "data": {
      "text/html": [
       "<div>\n",
       "<style scoped>\n",
       "    .dataframe tbody tr th:only-of-type {\n",
       "        vertical-align: middle;\n",
       "    }\n",
       "\n",
       "    .dataframe tbody tr th {\n",
       "        vertical-align: top;\n",
       "    }\n",
       "\n",
       "    .dataframe thead th {\n",
       "        text-align: right;\n",
       "    }\n",
       "</style>\n",
       "<table border=\"1\" class=\"dataframe\">\n",
       "  <thead>\n",
       "    <tr style=\"text-align: right;\">\n",
       "      <th></th>\n",
       "      <th>race_Asian</th>\n",
       "      <th>race_Caucasian</th>\n",
       "      <th>race_Hispanic</th>\n",
       "      <th>race_Other</th>\n",
       "      <th>gender_Male</th>\n",
       "      <th>diag_1_congenital anomalies</th>\n",
       "      <th>diag_1_diabetes-related</th>\n",
       "      <th>diag_1_diseases of the blood and blood-forming organs</th>\n",
       "      <th>diag_1_diseases of the circulatory system</th>\n",
       "      <th>diag_1_diseases of the digestive system</th>\n",
       "      <th>...</th>\n",
       "      <th>diag_1_injury and poisoning</th>\n",
       "      <th>diag_1_mental disorders</th>\n",
       "      <th>diag_1_neoplasms</th>\n",
       "      <th>diag_1_symptoms, signs, and ill-defined conditions</th>\n",
       "      <th>age</th>\n",
       "      <th>admission_type_id</th>\n",
       "      <th>discharge_disposition_id</th>\n",
       "      <th>time_in_hospital</th>\n",
       "      <th>num_procedures</th>\n",
       "      <th>num_medications</th>\n",
       "    </tr>\n",
       "  </thead>\n",
       "  <tbody>\n",
       "    <tr>\n",
       "      <th>12251</th>\n",
       "      <td>0.0</td>\n",
       "      <td>1.0</td>\n",
       "      <td>0.0</td>\n",
       "      <td>0.0</td>\n",
       "      <td>1.0</td>\n",
       "      <td>0.0</td>\n",
       "      <td>0.0</td>\n",
       "      <td>0.0</td>\n",
       "      <td>0.0</td>\n",
       "      <td>0.0</td>\n",
       "      <td>...</td>\n",
       "      <td>0.0</td>\n",
       "      <td>0.0</td>\n",
       "      <td>0.0</td>\n",
       "      <td>0.0</td>\n",
       "      <td>-0.760364</td>\n",
       "      <td>-0.741534</td>\n",
       "      <td>1.927666</td>\n",
       "      <td>-1.103291</td>\n",
       "      <td>0.403756</td>\n",
       "      <td>-0.126908</td>\n",
       "    </tr>\n",
       "    <tr>\n",
       "      <th>294</th>\n",
       "      <td>0.0</td>\n",
       "      <td>0.0</td>\n",
       "      <td>0.0</td>\n",
       "      <td>0.0</td>\n",
       "      <td>0.0</td>\n",
       "      <td>0.0</td>\n",
       "      <td>1.0</td>\n",
       "      <td>0.0</td>\n",
       "      <td>0.0</td>\n",
       "      <td>0.0</td>\n",
       "      <td>...</td>\n",
       "      <td>0.0</td>\n",
       "      <td>0.0</td>\n",
       "      <td>0.0</td>\n",
       "      <td>0.0</td>\n",
       "      <td>1.167596</td>\n",
       "      <td>-0.741534</td>\n",
       "      <td>-0.491223</td>\n",
       "      <td>-0.412875</td>\n",
       "      <td>-0.185386</td>\n",
       "      <td>-0.994219</td>\n",
       "    </tr>\n",
       "    <tr>\n",
       "      <th>27846</th>\n",
       "      <td>0.0</td>\n",
       "      <td>1.0</td>\n",
       "      <td>0.0</td>\n",
       "      <td>0.0</td>\n",
       "      <td>1.0</td>\n",
       "      <td>0.0</td>\n",
       "      <td>0.0</td>\n",
       "      <td>0.0</td>\n",
       "      <td>0.0</td>\n",
       "      <td>0.0</td>\n",
       "      <td>...</td>\n",
       "      <td>0.0</td>\n",
       "      <td>0.0</td>\n",
       "      <td>0.0</td>\n",
       "      <td>0.0</td>\n",
       "      <td>1.167596</td>\n",
       "      <td>1.094918</td>\n",
       "      <td>-0.007445</td>\n",
       "      <td>3.039204</td>\n",
       "      <td>-0.774528</td>\n",
       "      <td>-0.003007</td>\n",
       "    </tr>\n",
       "    <tr>\n",
       "      <th>24932</th>\n",
       "      <td>0.0</td>\n",
       "      <td>1.0</td>\n",
       "      <td>0.0</td>\n",
       "      <td>0.0</td>\n",
       "      <td>0.0</td>\n",
       "      <td>0.0</td>\n",
       "      <td>0.0</td>\n",
       "      <td>0.0</td>\n",
       "      <td>0.0</td>\n",
       "      <td>0.0</td>\n",
       "      <td>...</td>\n",
       "      <td>1.0</td>\n",
       "      <td>0.0</td>\n",
       "      <td>0.0</td>\n",
       "      <td>0.0</td>\n",
       "      <td>-0.117711</td>\n",
       "      <td>0.176692</td>\n",
       "      <td>-0.007445</td>\n",
       "      <td>0.622749</td>\n",
       "      <td>0.403756</td>\n",
       "      <td>0.120895</td>\n",
       "    </tr>\n",
       "    <tr>\n",
       "      <th>12493</th>\n",
       "      <td>0.0</td>\n",
       "      <td>1.0</td>\n",
       "      <td>0.0</td>\n",
       "      <td>0.0</td>\n",
       "      <td>0.0</td>\n",
       "      <td>0.0</td>\n",
       "      <td>0.0</td>\n",
       "      <td>0.0</td>\n",
       "      <td>0.0</td>\n",
       "      <td>0.0</td>\n",
       "      <td>...</td>\n",
       "      <td>1.0</td>\n",
       "      <td>0.0</td>\n",
       "      <td>0.0</td>\n",
       "      <td>0.0</td>\n",
       "      <td>-0.117711</td>\n",
       "      <td>-0.741534</td>\n",
       "      <td>-0.249334</td>\n",
       "      <td>-1.103291</td>\n",
       "      <td>-0.774528</td>\n",
       "      <td>-0.994219</td>\n",
       "    </tr>\n",
       "  </tbody>\n",
       "</table>\n",
       "<p>5 rows × 28 columns</p>\n",
       "</div>"
      ],
      "text/plain": [
       "       race_Asian  race_Caucasian  race_Hispanic  race_Other  gender_Male  \\\n",
       "12251         0.0             1.0            0.0         0.0          1.0   \n",
       "294           0.0             0.0            0.0         0.0          0.0   \n",
       "27846         0.0             1.0            0.0         0.0          1.0   \n",
       "24932         0.0             1.0            0.0         0.0          0.0   \n",
       "12493         0.0             1.0            0.0         0.0          0.0   \n",
       "\n",
       "       diag_1_congenital anomalies  diag_1_diabetes-related  \\\n",
       "12251                          0.0                      0.0   \n",
       "294                            0.0                      1.0   \n",
       "27846                          0.0                      0.0   \n",
       "24932                          0.0                      0.0   \n",
       "12493                          0.0                      0.0   \n",
       "\n",
       "       diag_1_diseases of the blood and blood-forming organs  \\\n",
       "12251                                                0.0       \n",
       "294                                                  0.0       \n",
       "27846                                                0.0       \n",
       "24932                                                0.0       \n",
       "12493                                                0.0       \n",
       "\n",
       "       diag_1_diseases of the circulatory system  \\\n",
       "12251                                        0.0   \n",
       "294                                          0.0   \n",
       "27846                                        0.0   \n",
       "24932                                        0.0   \n",
       "12493                                        0.0   \n",
       "\n",
       "       diag_1_diseases of the digestive system  ...  \\\n",
       "12251                                      0.0  ...   \n",
       "294                                        0.0  ...   \n",
       "27846                                      0.0  ...   \n",
       "24932                                      0.0  ...   \n",
       "12493                                      0.0  ...   \n",
       "\n",
       "       diag_1_injury and poisoning  diag_1_mental disorders  diag_1_neoplasms  \\\n",
       "12251                          0.0                      0.0               0.0   \n",
       "294                            0.0                      0.0               0.0   \n",
       "27846                          0.0                      0.0               0.0   \n",
       "24932                          1.0                      0.0               0.0   \n",
       "12493                          1.0                      0.0               0.0   \n",
       "\n",
       "       diag_1_symptoms, signs, and ill-defined conditions       age  \\\n",
       "12251                                                0.0  -0.760364   \n",
       "294                                                  0.0   1.167596   \n",
       "27846                                                0.0   1.167596   \n",
       "24932                                                0.0  -0.117711   \n",
       "12493                                                0.0  -0.117711   \n",
       "\n",
       "       admission_type_id  discharge_disposition_id  time_in_hospital  \\\n",
       "12251          -0.741534                  1.927666         -1.103291   \n",
       "294            -0.741534                 -0.491223         -0.412875   \n",
       "27846           1.094918                 -0.007445          3.039204   \n",
       "24932           0.176692                 -0.007445          0.622749   \n",
       "12493          -0.741534                 -0.249334         -1.103291   \n",
       "\n",
       "       num_procedures  num_medications  \n",
       "12251        0.403756        -0.126908  \n",
       "294         -0.185386        -0.994219  \n",
       "27846       -0.774528        -0.003007  \n",
       "24932        0.403756         0.120895  \n",
       "12493       -0.774528        -0.994219  \n",
       "\n",
       "[5 rows x 28 columns]"
      ]
     },
     "execution_count": 19,
     "metadata": {},
     "output_type": "execute_result"
    }
   ],
   "source": [
    "# Repeat for test set\n",
    "X_test_combined = pd.concat([X_test_cat_df, X_test_scaled_df], axis='columns')\n",
    "\n",
    "X_test_combined.head()"
   ]
  },
  {
   "cell_type": "code",
   "execution_count": 20,
   "metadata": {},
   "outputs": [
    {
     "data": {
      "text/html": [
       "<div>\n",
       "<style scoped>\n",
       "    .dataframe tbody tr th:only-of-type {\n",
       "        vertical-align: middle;\n",
       "    }\n",
       "\n",
       "    .dataframe tbody tr th {\n",
       "        vertical-align: top;\n",
       "    }\n",
       "\n",
       "    .dataframe thead th {\n",
       "        text-align: right;\n",
       "    }\n",
       "</style>\n",
       "<table border=\"1\" class=\"dataframe\">\n",
       "  <thead>\n",
       "    <tr style=\"text-align: right;\">\n",
       "      <th></th>\n",
       "      <th>race_Asian</th>\n",
       "      <th>race_Caucasian</th>\n",
       "      <th>race_Hispanic</th>\n",
       "      <th>race_Other</th>\n",
       "      <th>gender_Male</th>\n",
       "      <th>diag_1_congenital anomalies</th>\n",
       "      <th>diag_1_diabetes-related</th>\n",
       "      <th>diag_1_diseases of the blood and blood-forming organs</th>\n",
       "      <th>diag_1_diseases of the circulatory system</th>\n",
       "      <th>diag_1_diseases of the digestive system</th>\n",
       "      <th>...</th>\n",
       "      <th>diag_1_injury and poisoning</th>\n",
       "      <th>diag_1_mental disorders</th>\n",
       "      <th>diag_1_neoplasms</th>\n",
       "      <th>diag_1_symptoms, signs, and ill-defined conditions</th>\n",
       "      <th>age</th>\n",
       "      <th>admission_type_id</th>\n",
       "      <th>discharge_disposition_id</th>\n",
       "      <th>time_in_hospital</th>\n",
       "      <th>num_procedures</th>\n",
       "      <th>num_medications</th>\n",
       "    </tr>\n",
       "  </thead>\n",
       "  <tbody>\n",
       "    <tr>\n",
       "      <th>25681</th>\n",
       "      <td>0.0</td>\n",
       "      <td>1.0</td>\n",
       "      <td>0.0</td>\n",
       "      <td>0.0</td>\n",
       "      <td>0.0</td>\n",
       "      <td>0.0</td>\n",
       "      <td>0.0</td>\n",
       "      <td>0.0</td>\n",
       "      <td>0.0</td>\n",
       "      <td>0.0</td>\n",
       "      <td>...</td>\n",
       "      <td>1.0</td>\n",
       "      <td>0.0</td>\n",
       "      <td>0.0</td>\n",
       "      <td>0.0</td>\n",
       "      <td>0.524942</td>\n",
       "      <td>-0.741534</td>\n",
       "      <td>-0.007445</td>\n",
       "      <td>-0.067667</td>\n",
       "      <td>0.403756</td>\n",
       "      <td>0.120895</td>\n",
       "    </tr>\n",
       "    <tr>\n",
       "      <th>10685</th>\n",
       "      <td>0.0</td>\n",
       "      <td>1.0</td>\n",
       "      <td>0.0</td>\n",
       "      <td>0.0</td>\n",
       "      <td>0.0</td>\n",
       "      <td>0.0</td>\n",
       "      <td>0.0</td>\n",
       "      <td>0.0</td>\n",
       "      <td>0.0</td>\n",
       "      <td>0.0</td>\n",
       "      <td>...</td>\n",
       "      <td>0.0</td>\n",
       "      <td>0.0</td>\n",
       "      <td>0.0</td>\n",
       "      <td>0.0</td>\n",
       "      <td>1.167596</td>\n",
       "      <td>-0.741534</td>\n",
       "      <td>-0.007445</td>\n",
       "      <td>-0.412875</td>\n",
       "      <td>-0.185386</td>\n",
       "      <td>-0.250810</td>\n",
       "    </tr>\n",
       "    <tr>\n",
       "      <th>12392</th>\n",
       "      <td>0.0</td>\n",
       "      <td>1.0</td>\n",
       "      <td>0.0</td>\n",
       "      <td>0.0</td>\n",
       "      <td>1.0</td>\n",
       "      <td>0.0</td>\n",
       "      <td>0.0</td>\n",
       "      <td>0.0</td>\n",
       "      <td>0.0</td>\n",
       "      <td>0.0</td>\n",
       "      <td>...</td>\n",
       "      <td>0.0</td>\n",
       "      <td>0.0</td>\n",
       "      <td>1.0</td>\n",
       "      <td>0.0</td>\n",
       "      <td>0.524942</td>\n",
       "      <td>1.094918</td>\n",
       "      <td>1.927666</td>\n",
       "      <td>-0.067667</td>\n",
       "      <td>-0.185386</td>\n",
       "      <td>0.492599</td>\n",
       "    </tr>\n",
       "    <tr>\n",
       "      <th>23686</th>\n",
       "      <td>0.0</td>\n",
       "      <td>0.0</td>\n",
       "      <td>0.0</td>\n",
       "      <td>0.0</td>\n",
       "      <td>0.0</td>\n",
       "      <td>0.0</td>\n",
       "      <td>0.0</td>\n",
       "      <td>0.0</td>\n",
       "      <td>0.0</td>\n",
       "      <td>0.0</td>\n",
       "      <td>...</td>\n",
       "      <td>1.0</td>\n",
       "      <td>0.0</td>\n",
       "      <td>0.0</td>\n",
       "      <td>0.0</td>\n",
       "      <td>-0.760364</td>\n",
       "      <td>-0.741534</td>\n",
       "      <td>-0.007445</td>\n",
       "      <td>0.277541</td>\n",
       "      <td>-0.185386</td>\n",
       "      <td>0.864304</td>\n",
       "    </tr>\n",
       "    <tr>\n",
       "      <th>39038</th>\n",
       "      <td>0.0</td>\n",
       "      <td>1.0</td>\n",
       "      <td>0.0</td>\n",
       "      <td>0.0</td>\n",
       "      <td>0.0</td>\n",
       "      <td>0.0</td>\n",
       "      <td>0.0</td>\n",
       "      <td>0.0</td>\n",
       "      <td>1.0</td>\n",
       "      <td>0.0</td>\n",
       "      <td>...</td>\n",
       "      <td>0.0</td>\n",
       "      <td>0.0</td>\n",
       "      <td>0.0</td>\n",
       "      <td>0.0</td>\n",
       "      <td>0.524942</td>\n",
       "      <td>-0.741534</td>\n",
       "      <td>-0.491223</td>\n",
       "      <td>-0.758083</td>\n",
       "      <td>2.760324</td>\n",
       "      <td>0.492599</td>\n",
       "    </tr>\n",
       "  </tbody>\n",
       "</table>\n",
       "<p>5 rows × 28 columns</p>\n",
       "</div>"
      ],
      "text/plain": [
       "       race_Asian  race_Caucasian  race_Hispanic  race_Other  gender_Male  \\\n",
       "25681         0.0             1.0            0.0         0.0          0.0   \n",
       "10685         0.0             1.0            0.0         0.0          0.0   \n",
       "12392         0.0             1.0            0.0         0.0          1.0   \n",
       "23686         0.0             0.0            0.0         0.0          0.0   \n",
       "39038         0.0             1.0            0.0         0.0          0.0   \n",
       "\n",
       "       diag_1_congenital anomalies  diag_1_diabetes-related  \\\n",
       "25681                          0.0                      0.0   \n",
       "10685                          0.0                      0.0   \n",
       "12392                          0.0                      0.0   \n",
       "23686                          0.0                      0.0   \n",
       "39038                          0.0                      0.0   \n",
       "\n",
       "       diag_1_diseases of the blood and blood-forming organs  \\\n",
       "25681                                                0.0       \n",
       "10685                                                0.0       \n",
       "12392                                                0.0       \n",
       "23686                                                0.0       \n",
       "39038                                                0.0       \n",
       "\n",
       "       diag_1_diseases of the circulatory system  \\\n",
       "25681                                        0.0   \n",
       "10685                                        0.0   \n",
       "12392                                        0.0   \n",
       "23686                                        0.0   \n",
       "39038                                        1.0   \n",
       "\n",
       "       diag_1_diseases of the digestive system  ...  \\\n",
       "25681                                      0.0  ...   \n",
       "10685                                      0.0  ...   \n",
       "12392                                      0.0  ...   \n",
       "23686                                      0.0  ...   \n",
       "39038                                      0.0  ...   \n",
       "\n",
       "       diag_1_injury and poisoning  diag_1_mental disorders  diag_1_neoplasms  \\\n",
       "25681                          1.0                      0.0               0.0   \n",
       "10685                          0.0                      0.0               0.0   \n",
       "12392                          0.0                      0.0               1.0   \n",
       "23686                          1.0                      0.0               0.0   \n",
       "39038                          0.0                      0.0               0.0   \n",
       "\n",
       "       diag_1_symptoms, signs, and ill-defined conditions       age  \\\n",
       "25681                                                0.0   0.524942   \n",
       "10685                                                0.0   1.167596   \n",
       "12392                                                0.0   0.524942   \n",
       "23686                                                0.0  -0.760364   \n",
       "39038                                                0.0   0.524942   \n",
       "\n",
       "       admission_type_id  discharge_disposition_id  time_in_hospital  \\\n",
       "25681          -0.741534                 -0.007445         -0.067667   \n",
       "10685          -0.741534                 -0.007445         -0.412875   \n",
       "12392           1.094918                  1.927666         -0.067667   \n",
       "23686          -0.741534                 -0.007445          0.277541   \n",
       "39038          -0.741534                 -0.491223         -0.758083   \n",
       "\n",
       "       num_procedures  num_medications  \n",
       "25681        0.403756         0.120895  \n",
       "10685       -0.185386        -0.250810  \n",
       "12392       -0.185386         0.492599  \n",
       "23686       -0.185386         0.864304  \n",
       "39038        2.760324         0.492599  \n",
       "\n",
       "[5 rows x 28 columns]"
      ]
     },
     "execution_count": 20,
     "metadata": {},
     "output_type": "execute_result"
    }
   ],
   "source": [
    "# Repeat for validation set\n",
    "X_val_combined = pd.concat([X_val_cat_df, X_val_scaled_df], axis='columns')\n",
    "\n",
    "X_val_combined.head()"
   ]
  },
  {
   "cell_type": "markdown",
   "metadata": {},
   "source": [
    "### KNN and Logistic Regression\n",
    "Let's now fit our data to KNN and Logistic Regression models and look at accuracy, precision, and recall scores for each."
   ]
  },
  {
   "cell_type": "code",
   "execution_count": 123,
   "metadata": {},
   "outputs": [],
   "source": [
    "def print_accuracy(model, x_tr, y_tr, x_te, y_te):\n",
    "    print(\"The accuracy score for {} is...\".format(model))\n",
    "    print(\"Training: {:6.2f}%\".format(100*model.score(x_tr, y_tr)))\n",
    "    print(\"Test set: {:6.2f}%\".format(100*model.score(x_te, y_te)))"
   ]
  },
  {
   "cell_type": "code",
   "execution_count": 124,
   "metadata": {},
   "outputs": [],
   "source": [
    "def precision_and_recall(y_te, y_pred, threshold=0.5):\n",
    "    if threshold != 0.5:\n",
    "        print(\"Threshold of {}...\".format(threshold))\n",
    "    else:\n",
    "        print(\"Default threshold...\")\n",
    "    print(\"Precision: {:6.2f}%, Recall: {:6.2f}%\".format(100*precision_score(y_te, y_pred),\n",
    "                                                      100*recall_score(y_te, y_pred)))"
   ]
  },
  {
   "cell_type": "code",
   "execution_count": 125,
   "metadata": {},
   "outputs": [],
   "source": [
    "def print_scores(model, x_tr, y_tr, x_te, y_te, y_pred, threshold=0.5):\n",
    "    '''\n",
    "    This function prints accuracy, precision, and recall scores for a given model\n",
    "    '''\n",
    "    \n",
    "    print(\"The accuracy score for {} is...\".format(model))\n",
    "    print(\"Training: {:6.2f}%\".format(100*model.score(x_tr, y_tr)))\n",
    "    print(\"Test set: {:6.2f}%\".format(100*model.score(x_te, y_te)))\n",
    "    \n",
    "    if threshold != 0.5:\n",
    "        print(\"Threshold of {}...\".format(threshold))\n",
    "    else:\n",
    "        print(\"Default threshold...\")\n",
    "    print(\"Precision: {:6.2f}%, Recall: {:6.2f}%\".format(100*precision_score(y_te, y_pred),\n",
    "                                                      100*recall_score(y_te, y_pred)))"
   ]
  },
  {
   "cell_type": "code",
   "execution_count": 126,
   "metadata": {},
   "outputs": [
    {
     "name": "stdout",
     "output_type": "stream",
     "text": [
      "The accuracy score for KNeighborsClassifier() is...\n",
      "Training:  80.75%\n",
      "Test set:  79.46%\n"
     ]
    }
   ],
   "source": [
    "knn = KNeighborsClassifier(n_neighbors=5)\n",
    "knn.fit(X_train_combined, label_train)\n",
    "\n",
    "print_accuracy(knn, X_train_combined, label_train, X_test_combined, label_test)"
   ]
  },
  {
   "cell_type": "code",
   "execution_count": 129,
   "metadata": {},
   "outputs": [
    {
     "name": "stdout",
     "output_type": "stream",
     "text": [
      "Default threshold...\n",
      "Precision:  57.58%, Recall:  22.97%\n"
     ]
    }
   ],
   "source": [
    "# using the default threshold of 0.5, which is what vanilla predict does\n",
    "y_predict = knn.predict(X_test_combined)\n",
    "    \n",
    "precision_and_recall(label_test, y_predict)"
   ]
  },
  {
   "cell_type": "code",
   "execution_count": 130,
   "metadata": {},
   "outputs": [
    {
     "name": "stdout",
     "output_type": "stream",
     "text": [
      "Threshold of 0.06...\n",
      "Precision:  30.44%, Recall:  93.78%\n"
     ]
    }
   ],
   "source": [
    "# using the new threshold of 0.06\n",
    "y_predict = (knn.predict_proba(X_test_combined)[:,1] > 0.06)\n",
    "\n",
    "precision_and_recall(label_test, y_predict, 0.06)"
   ]
  },
  {
   "cell_type": "markdown",
   "metadata": {},
   "source": [
    "Let's now look at the same information for the logistic regression model to compare."
   ]
  },
  {
   "cell_type": "code",
   "execution_count": 83,
   "metadata": {},
   "outputs": [
    {
     "name": "stdout",
     "output_type": "stream",
     "text": [
      "The accuracy score for logistic regression is\n",
      "Training:  77.95%\n",
      "Test set:  78.14%\n"
     ]
    },
    {
     "name": "stderr",
     "output_type": "stream",
     "text": [
      "/Users/willnobles/opt/anaconda3/envs/metis/lib/python3.8/site-packages/sklearn/linear_model/_logistic.py:763: ConvergenceWarning: lbfgs failed to converge (status=1):\n",
      "STOP: TOTAL NO. of ITERATIONS REACHED LIMIT.\n",
      "\n",
      "Increase the number of iterations (max_iter) or scale the data as shown in:\n",
      "    https://scikit-learn.org/stable/modules/preprocessing.html\n",
      "Please also refer to the documentation for alternative solver options:\n",
      "    https://scikit-learn.org/stable/modules/linear_model.html#logistic-regression\n",
      "  n_iter_i = _check_optimize_result(\n"
     ]
    }
   ],
   "source": [
    "logit = LogisticRegression(C = 0.95)\n",
    "logit.fit(X_train_combined, label_train)\n",
    "print(\"The accuracy score for logistic regression is\")\n",
    "print(\"Training: {:6.2f}%\".format(100*logit.score(X_train_combined, label_train)))\n",
    "print(\"Test set: {:6.2f}%\".format(100*logit.score(X_test_combined, label_test)))"
   ]
  },
  {
   "cell_type": "code",
   "execution_count": 84,
   "metadata": {},
   "outputs": [
    {
     "name": "stdout",
     "output_type": "stream",
     "text": [
      "Default threshold:\n",
      "Precision: 0.0000,   Recall: 0.0000\n"
     ]
    },
    {
     "name": "stderr",
     "output_type": "stream",
     "text": [
      "/Users/willnobles/opt/anaconda3/envs/metis/lib/python3.8/site-packages/sklearn/metrics/_classification.py:1245: UndefinedMetricWarning: Precision is ill-defined and being set to 0.0 due to no predicted samples. Use `zero_division` parameter to control this behavior.\n",
      "  _warn_prf(average, modifier, msg_start, len(result))\n"
     ]
    }
   ],
   "source": [
    "# using the default threshold of 0.5, which is what vanilla predict does\n",
    "y_predict = logit.predict(X_test_combined)\n",
    "print(\"Default threshold:\")\n",
    "print(\"Precision: {:6.4f},   Recall: {:6.4f}\".format(precision_score(label_test, y_predict), \n",
    "                                                     recall_score(label_test, y_predict)))"
   ]
  },
  {
   "cell_type": "code",
   "execution_count": 86,
   "metadata": {},
   "outputs": [
    {
     "name": "stdout",
     "output_type": "stream",
     "text": [
      "Threshold of 0.06:\n",
      "Precision: 0.2186,   Recall: 1.0000\n"
     ]
    }
   ],
   "source": [
    "# using the new threshold of 0.06\n",
    "y_predict = (logit.predict_proba(X_test_combined)[:,1] > 0.06)\n",
    "print(\"Threshold of 0.06:\")\n",
    "print(\"Precision: {:6.4f},   Recall: {:6.4f}\".format(precision_score(label_test, y_predict), \n",
    "                                                     recall_score(label_test, y_predict)))"
   ]
  },
  {
   "cell_type": "markdown",
   "metadata": {},
   "source": [
    "Let's do a prediction using our Linear Regression model. We can see that the logistic regression model predicts an outcome of 0, or not readmitted, roughly 80% of the time and an outcome of 1, or readmitted, about 20% of the time."
   ]
  },
  {
   "cell_type": "code",
   "execution_count": 23,
   "metadata": {},
   "outputs": [
    {
     "data": {
      "text/plain": [
       "array([[0.78733252, 0.21266748],\n",
       "       [0.80630192, 0.19369808],\n",
       "       [0.80123409, 0.19876591],\n",
       "       ...,\n",
       "       [0.75062451, 0.24937549],\n",
       "       [0.79380163, 0.20619837],\n",
       "       [0.79479739, 0.20520261]])"
      ]
     },
     "execution_count": 23,
     "metadata": {},
     "output_type": "execute_result"
    }
   ],
   "source": [
    "prediction = logit.predict_proba(X_test_combined)\n",
    "prediction"
   ]
  },
  {
   "cell_type": "markdown",
   "metadata": {},
   "source": [
    "We'll also look at the confusion matrices for each model."
   ]
  },
  {
   "cell_type": "code",
   "execution_count": 24,
   "metadata": {},
   "outputs": [],
   "source": [
    "from sklearn.metrics import confusion_matrix"
   ]
  },
  {
   "cell_type": "code",
   "execution_count": 25,
   "metadata": {},
   "outputs": [
    {
     "data": {
      "image/png": "[encoded data removed]",
      "text/plain": [
       "<Figure size 900x600 with 2 Axes>"
      ]
     },
     "metadata": {
      "needs_background": "light"
     },
     "output_type": "display_data"
    }
   ],
   "source": [
    "# Print confusion matrix for kNN\n",
    "knn_confusion = confusion_matrix(label_test, knn.predict(X_test_combined))\n",
    "plt.figure(dpi=150)\n",
    "sns.heatmap(knn_confusion, cmap=plt.cm.Blues, annot=True, square=True, fmt='.0f',\n",
    "           xticklabels=df['readmitted'].unique(),\n",
    "           yticklabels=df['readmitted'].unique())\n",
    "\n",
    "plt.xlabel('Predicted species')\n",
    "plt.ylabel('Actual species')\n",
    "plt.title('kNN confusion matrix');"
   ]
  },
  {
   "cell_type": "code",
   "execution_count": 26,
   "metadata": {},
   "outputs": [
    {
     "data": {
      "image/png": "[encoded data removed]",
      "text/plain": [
       "<Figure size 900x600 with 2 Axes>"
      ]
     },
     "metadata": {
      "needs_background": "light"
     },
     "output_type": "display_data"
    }
   ],
   "source": [
    "# Print confusion matrix for logistic regression\n",
    "logit_confusion = confusion_matrix(label_test, logit.predict(X_test_combined))\n",
    "plt.figure(dpi=150)\n",
    "sns.heatmap(logit_confusion, cmap=plt.cm.Blues, annot=True, square=True, fmt='.0f',\n",
    "           xticklabels=[0, 1],\n",
    "           yticklabels=[0, 1])\n",
    "\n",
    "plt.xlabel('Predicted species')\n",
    "plt.ylabel('Actual species')\n",
    "plt.title('Logistic regression confusion matrix');"
   ]
  },
  {
   "cell_type": "code",
   "execution_count": 27,
   "metadata": {},
   "outputs": [
    {
     "data": {
      "text/plain": [
       "array([[ 0.15058904,  0.49876294,  0.1716182 ,  0.3619109 , -0.01431394,\n",
       "        -0.36182452,  0.55612991,  0.66549544,  0.46731668,  0.31536959,\n",
       "         0.24272953,  0.42152552,  0.22795097,  0.39782822,  0.44563901,\n",
       "         0.39365882,  0.8895358 ,  0.34606687,  0.23711716,  0.45213424,\n",
       "         0.006294  ,  0.43307573,  0.06449384, -0.19662704, -0.04057468,\n",
       "         0.02180752, -0.07083629,  0.140811  ]])"
      ]
     },
     "execution_count": 27,
     "metadata": {},
     "output_type": "execute_result"
    }
   ],
   "source": [
    "# Look at the logistic regression model coefficients\n",
    "logit.coef_"
   ]
  },
  {
   "cell_type": "markdown",
   "metadata": {},
   "source": [
    "Before we move on to a different model, let's try to improve the current models by using random oversampling. We can see that there is a class imbalance in our target variable, so it's always going to be about as accurate as the imbalance itself. In other words, there are 31019 records classifying when a patient is not readmitted to the hospital and just 8706 when a patient is readmitted. That means 72% of the patients in our data aren't readmitted, so a classification model that predicts guesses \"not readmitted\" 72% of the time will be fairly accurate."
   ]
  },
  {
   "cell_type": "code",
   "execution_count": 160,
   "metadata": {},
   "outputs": [
    {
     "data": {
      "text/plain": [
       "0    31019\n",
       "1     8706\n",
       "Name: readmitted, dtype: int64"
      ]
     },
     "execution_count": 160,
     "metadata": {},
     "output_type": "execute_result"
    }
   ],
   "source": [
    "df['readmitted'].value_counts()"
   ]
  },
  {
   "cell_type": "code",
   "execution_count": 162,
   "metadata": {},
   "outputs": [],
   "source": [
    "# Add some random oversampling of the minority classes\n",
    "from imblearn.over_sampling import RandomOverSampler\n",
    "ros = RandomOverSampler(random_state=0)\n",
    "X_resampled, y_resampled = ros.fit_sample(X_train_combined, label_train)"
   ]
  },
  {
   "cell_type": "code",
   "execution_count": 166,
   "metadata": {},
   "outputs": [
    {
     "data": {
      "text/plain": [
       "Counter({1: 23223, 0: 23223})"
      ]
     },
     "execution_count": 166,
     "metadata": {},
     "output_type": "execute_result"
    }
   ],
   "source": [
    "# Yay, balanced classes!\n",
    "Counter(y_resampled)"
   ]
  },
  {
   "cell_type": "code",
   "execution_count": 180,
   "metadata": {},
   "outputs": [
    {
     "data": {
      "image/png": "[encoded data removed]",
      "text/plain": [
       "<Figure size 900x600 with 2 Axes>"
      ]
     },
     "metadata": {
      "needs_background": "light"
     },
     "output_type": "display_data"
    }
   ],
   "source": [
    "# Run the analysis again. What do we expect to see with balanced classes??\n",
    "# cell takes ~15s to run\n",
    "knn_resampled = KNeighborsClassifier()\n",
    "clf_ros = knn_resampled.fit(X_resampled, y_resampled)\n",
    "\n",
    "# Print confusion matrix for kNN regression\n",
    "knn_resampled_confusion = confusion_matrix(label_test, knn_resampled.predict(X_test_combined))\n",
    "plt.figure(dpi=150)\n",
    "sns.heatmap(knn_resampled_confusion, cmap=plt.cm.Blues, annot=True, square=True, fmt='.0f',\n",
    "           xticklabels=[0, 1],\n",
    "           yticklabels=[0, 1])\n",
    "\n",
    "plt.xlabel('Predicted species')\n",
    "plt.ylabel('Actual species')\n",
    "plt.title('Oversampled kNN confusion matrix');"
   ]
  },
  {
   "cell_type": "code",
   "execution_count": 178,
   "metadata": {},
   "outputs": [
    {
     "name": "stdout",
     "output_type": "stream",
     "text": [
      "The accuracy score for KNeighborsClassifier() is...\n",
      "Training:  81.91%\n",
      "Test set:  69.63%\n"
     ]
    }
   ],
   "source": [
    "print_accuracy(knn_resampled, X_resampled, y_resampled, X_test_combined, label_test)"
   ]
  },
  {
   "cell_type": "code",
   "execution_count": 179,
   "metadata": {},
   "outputs": [
    {
     "name": "stdout",
     "output_type": "stream",
     "text": [
      "Default threshold...\n",
      "Precision:  39.99%, Recall:  77.72%\n"
     ]
    }
   ],
   "source": [
    "precision_and_recall(label_test, knn_resampled.predict(X_test_combined))"
   ]
  },
  {
   "cell_type": "markdown",
   "metadata": {},
   "source": [
    "We'll try the same thing for the logistic regression model."
   ]
  },
  {
   "cell_type": "code",
   "execution_count": 184,
   "metadata": {},
   "outputs": [
    {
     "name": "stderr",
     "output_type": "stream",
     "text": [
      "/Users/willnobles/opt/anaconda3/envs/metis/lib/python3.8/site-packages/sklearn/linear_model/_logistic.py:763: ConvergenceWarning: lbfgs failed to converge (status=1):\n",
      "STOP: TOTAL NO. of ITERATIONS REACHED LIMIT.\n",
      "\n",
      "Increase the number of iterations (max_iter) or scale the data as shown in:\n",
      "    https://scikit-learn.org/stable/modules/preprocessing.html\n",
      "Please also refer to the documentation for alternative solver options:\n",
      "    https://scikit-learn.org/stable/modules/linear_model.html#logistic-regression\n",
      "  n_iter_i = _check_optimize_result(\n"
     ]
    },
    {
     "data": {
      "image/png": "[encoded data removed]",
      "text/plain": [
       "<Figure size 900x600 with 2 Axes>"
      ]
     },
     "metadata": {
      "needs_background": "light"
     },
     "output_type": "display_data"
    }
   ],
   "source": [
    "# Run the analysis again. What do we expect to see with balanced classes??\n",
    "# cell takes ~15s to run\n",
    "lr_resampled = LogisticRegression()\n",
    "clf_ros = lr_resampled.fit(X_resampled, y_resampled)\n",
    "\n",
    "# Print confusion matrix for kNN regression\n",
    "lr_resampled_confusion = confusion_matrix(label_test, lr_resampled.predict(X_test_combined))\n",
    "plt.figure(dpi=150)\n",
    "sns.heatmap(lr_resampled_confusion, cmap=plt.cm.Blues, annot=True, square=True, fmt='.0f',\n",
    "           xticklabels=[0, 1],\n",
    "           yticklabels=[0, 1])\n",
    "\n",
    "plt.xlabel('Predicted species')\n",
    "plt.ylabel('Actual species')\n",
    "plt.title('Oversampled Logistic Regression confusion matrix');"
   ]
  },
  {
   "cell_type": "code",
   "execution_count": 182,
   "metadata": {},
   "outputs": [
    {
     "name": "stdout",
     "output_type": "stream",
     "text": [
      "The accuracy score for LogisticRegression() is...\n",
      "Training:  56.87%\n",
      "Test set:  54.19%\n"
     ]
    }
   ],
   "source": [
    "print_accuracy(lr_resampled, X_resampled, y_resampled, X_test_combined, label_test)"
   ]
  },
  {
   "cell_type": "code",
   "execution_count": 183,
   "metadata": {},
   "outputs": [
    {
     "name": "stdout",
     "output_type": "stream",
     "text": [
      "Default threshold...\n",
      "Precision:  26.90%, Recall:  63.79%\n"
     ]
    }
   ],
   "source": [
    "precision_and_recall(label_test, lr_resampled.predict(X_test_combined))"
   ]
  },
  {
   "cell_type": "markdown",
   "metadata": {},
   "source": [
    "### Decision Tree and Random Forest"
   ]
  },
  {
   "cell_type": "code",
   "execution_count": 28,
   "metadata": {},
   "outputs": [],
   "source": [
    "def quick_test(model, X, y):\n",
    "    xtrain, xtest, ytrain, ytest = train_test_split(X, y, test_size=0.3)\n",
    "    model.fit(xtrain, ytrain)\n",
    "    return model.score(xtest, ytest)\n",
    "\n",
    "def quick_test_afew_times(model, X, y, n=10):\n",
    "    return np.mean([quick_test(model, X, y) for j in range(n)])"
   ]
  },
  {
   "cell_type": "code",
   "execution_count": 29,
   "metadata": {},
   "outputs": [],
   "source": [
    "def visualize(X, y, bdry='diag'):\n",
    "    c = cm.rainbow(np.linspace(0, 1, 2))\n",
    "    plt.scatter([i[0] for i in X], [i[1] for i in X], color=[c[i] for i in y], alpha=.5)\n",
    "    \n",
    "    #Plot the true decision boundary\n",
    "    if bdry == 'diag':\n",
    "        plt.plot([0, 1], [0, 1], 'k--')\n",
    "    elif bdry == 'quadrant':\n",
    "        plt.plot([0, 1], [0.5, 0.5], 'k--')\n",
    "        plt.plot([0.5, 0.5], [0, 1], 'k--')\n",
    "        \n",
    "    plt.grid(True)"
   ]
  },
  {
   "cell_type": "code",
   "execution_count": 31,
   "metadata": {},
   "outputs": [
    {
     "data": {
      "text/plain": [
       "0.7792906690534795"
      ]
     },
     "execution_count": 31,
     "metadata": {},
     "output_type": "execute_result"
    }
   ],
   "source": [
    "decisiontree = DecisionTreeClassifier(max_depth=4)\n",
    "quick_test_afew_times(decisiontree, X_train_combined, label_train)"
   ]
  },
  {
   "cell_type": "code",
   "execution_count": 32,
   "metadata": {},
   "outputs": [
    {
     "data": {
      "text/plain": [
       "0.7517117923472811"
      ]
     },
     "execution_count": 32,
     "metadata": {},
     "output_type": "execute_result"
    }
   ],
   "source": [
    "randomforest = RandomForestClassifier(n_estimators=100)\n",
    "quick_test_afew_times(randomforest, X_train_combined, label_train)"
   ]
  },
  {
   "cell_type": "code",
   "execution_count": 34,
   "metadata": {},
   "outputs": [
    {
     "name": "stdout",
     "output_type": "stream",
     "text": [
      "Accuracy:  78.14%\n"
     ]
    }
   ],
   "source": [
    "decisiontree = decisiontree.fit(X_train_combined, label_train)\n",
    "\n",
    "label_pred = decisiontree.predict(X_test_combined)\n",
    "\n",
    "print(\"Accuracy: {:6.2f}%\".format(100*metrics.accuracy_score(label_test, label_pred)))\n",
    "\n",
    "#grid = np.mgrid[0:1.02:0.02, 0:1.02:0.02].reshape(2,-1).T\n",
    "#visualize(grid, decisiontree.predict(X_train_combined))"
   ]
  },
  {
   "cell_type": "code",
   "execution_count": 185,
   "metadata": {},
   "outputs": [
    {
     "data": {
      "image/png": "[encoded data removed]",
      "text/plain": [
       "<Figure size 900x600 with 2 Axes>"
      ]
     },
     "metadata": {
      "needs_background": "light"
     },
     "output_type": "display_data"
    }
   ],
   "source": [
    "# Run the analysis again. What do we expect to see with balanced classes??\n",
    "# cell takes ~15s to run\n",
    "dt_resampled = DecisionTreeClassifier()\n",
    "clf_ros = dt_resampled.fit(X_resampled, y_resampled)\n",
    "\n",
    "# Print confusion matrix for kNN regression\n",
    "dt_resampled_confusion = confusion_matrix(label_test, dt_resampled.predict(X_test_combined))\n",
    "plt.figure(dpi=150)\n",
    "sns.heatmap(dt_resampled_confusion, cmap=plt.cm.Blues, annot=True, square=True, fmt='.0f',\n",
    "           xticklabels=[0, 1],\n",
    "           yticklabels=[0, 1])\n",
    "\n",
    "plt.xlabel('Predicted species')\n",
    "plt.ylabel('Actual species')\n",
    "plt.title('Oversampled Decision Tree confusion matrix');"
   ]
  },
  {
   "cell_type": "code",
   "execution_count": 186,
   "metadata": {},
   "outputs": [
    {
     "name": "stdout",
     "output_type": "stream",
     "text": [
      "The accuracy score for DecisionTreeClassifier() is...\n",
      "Training:  98.18%\n",
      "Test set:  89.43%\n"
     ]
    }
   ],
   "source": [
    "print_accuracy(dt_resampled, X_resampled, y_resampled, X_test_combined, label_test)"
   ]
  },
  {
   "cell_type": "code",
   "execution_count": 187,
   "metadata": {},
   "outputs": [
    {
     "name": "stdout",
     "output_type": "stream",
     "text": [
      "Default threshold...\n",
      "Precision:  73.13%, Recall:  81.64%\n"
     ]
    }
   ],
   "source": [
    "precision_and_recall(label_test, dt_resampled.predict(X_test_combined))"
   ]
  },
  {
   "cell_type": "code",
   "execution_count": 100,
   "metadata": {},
   "outputs": [
    {
     "data": {
      "text/plain": [
       "[Text(279.0, 489.24, 'X[1] <= 0.5\\ngini = 0.344\\nsamples = 29793\\nvalue = [23223, 6570]'),\n",
       " Text(139.5, 380.52000000000004, 'X[27] <= -0.561\\ngini = 0.273\\nsamples = 6158\\nvalue = [5152, 1006]'),\n",
       " Text(69.75, 271.8, 'X[7] <= 0.5\\ngini = 0.22\\nsamples = 2191\\nvalue = [1916, 275]'),\n",
       " Text(34.875, 163.08000000000004, 'X[23] <= -0.282\\ngini = 0.215\\nsamples = 2157\\nvalue = [1893, 264]'),\n",
       " Text(17.4375, 54.360000000000014, 'gini = 0.24\\nsamples = 1340\\nvalue = [1153, 187]'),\n",
       " Text(52.3125, 54.360000000000014, 'gini = 0.171\\nsamples = 817\\nvalue = [740, 77]'),\n",
       " Text(104.625, 163.08000000000004, 'X[22] <= -0.439\\ngini = 0.438\\nsamples = 34\\nvalue = [23, 11]'),\n",
       " Text(87.1875, 54.360000000000014, 'gini = 0.291\\nsamples = 17\\nvalue = [14, 3]'),\n",
       " Text(122.0625, 54.360000000000014, 'gini = 0.498\\nsamples = 17\\nvalue = [9, 8]'),\n",
       " Text(209.25, 271.8, 'X[26] <= -0.48\\ngini = 0.301\\nsamples = 3967\\nvalue = [3236, 731]'),\n",
       " Text(174.375, 163.08000000000004, 'X[23] <= 0.636\\ngini = 0.357\\nsamples = 1451\\nvalue = [1113, 338]'),\n",
       " Text(156.9375, 54.360000000000014, 'gini = 0.369\\nsamples = 1282\\nvalue = [969, 313]'),\n",
       " Text(191.8125, 54.360000000000014, 'gini = 0.252\\nsamples = 169\\nvalue = [144, 25]'),\n",
       " Text(244.125, 163.08000000000004, 'X[27] <= 0.059\\ngini = 0.264\\nsamples = 2516\\nvalue = [2123, 393]'),\n",
       " Text(226.6875, 54.360000000000014, 'gini = 0.213\\nsamples = 857\\nvalue = [753, 104]'),\n",
       " Text(261.5625, 54.360000000000014, 'gini = 0.288\\nsamples = 1659\\nvalue = [1370, 289]'),\n",
       " Text(418.5, 380.52000000000004, 'X[23] <= 1.554\\ngini = 0.36\\nsamples = 23635\\nvalue = [18071, 5564]'),\n",
       " Text(348.75, 271.8, 'X[27] <= -0.808\\ngini = 0.367\\nsamples = 22344\\nvalue = [16932, 5412]'),\n",
       " Text(313.875, 163.08000000000004, 'X[22] <= -0.439\\ngini = 0.302\\nsamples = 4261\\nvalue = [3470, 791]'),\n",
       " Text(296.4375, 54.360000000000014, 'gini = 0.249\\nsamples = 1420\\nvalue = [1213, 207]'),\n",
       " Text(331.3125, 54.360000000000014, 'gini = 0.327\\nsamples = 2841\\nvalue = [2257, 584]'),\n",
       " Text(383.625, 163.08000000000004, 'X[24] <= 1.323\\ngini = 0.38\\nsamples = 18083\\nvalue = [13462, 4621]'),\n",
       " Text(366.1875, 54.360000000000014, 'gini = 0.388\\nsamples = 16852\\nvalue = [12412, 4440]'),\n",
       " Text(401.0625, 54.360000000000014, 'gini = 0.251\\nsamples = 1231\\nvalue = [1050, 181]'),\n",
       " Text(488.25, 271.8, 'X[24] <= 1.686\\ngini = 0.208\\nsamples = 1291\\nvalue = [1139, 152]'),\n",
       " Text(453.375, 163.08000000000004, 'X[24] <= 0.355\\ngini = 0.219\\nsamples = 1191\\nvalue = [1042, 149]'),\n",
       " Text(435.9375, 54.360000000000014, 'gini = 0.195\\nsamples = 966\\nvalue = [860, 106]'),\n",
       " Text(470.8125, 54.360000000000014, 'gini = 0.309\\nsamples = 225\\nvalue = [182, 43]'),\n",
       " Text(523.125, 163.08000000000004, 'X[24] <= 4.709\\ngini = 0.058\\nsamples = 100\\nvalue = [97, 3]'),\n",
       " Text(505.6875, 54.360000000000014, 'gini = 0.0\\nsamples = 86\\nvalue = [86, 0]'),\n",
       " Text(540.5625, 54.360000000000014, 'gini = 0.337\\nsamples = 14\\nvalue = [11, 3]')]"
      ]
     },
     "execution_count": 100,
     "metadata": {},
     "output_type": "execute_result"
    },
    {
     "data": {
      "image/png": "[encoded data removed]",
      "text/plain": [
       "<Figure size 720x720 with 1 Axes>"
      ]
     },
     "metadata": {
      "needs_background": "light"
     },
     "output_type": "display_data"
    }
   ],
   "source": [
    "from sklearn import tree\n",
    "\n",
    "plt.figure(figsize=(10, 10))\n",
    "tree.plot_tree(decisiontree)"
   ]
  },
  {
   "cell_type": "code",
   "execution_count": 36,
   "metadata": {},
   "outputs": [
    {
     "name": "stdout",
     "output_type": "stream",
     "text": [
      "Accuracy:  92.46%\n"
     ]
    }
   ],
   "source": [
    "randomforest = randomforest.fit(X_train_combined, label_train)\n",
    "\n",
    "label_pred = randomforest.predict(X_test_combined)\n",
    "\n",
    "print(\"Accuracy: {:6.2f}%\".format(100*metrics.accuracy_score(label_test, label_pred)))"
   ]
  },
  {
   "cell_type": "code",
   "execution_count": 188,
   "metadata": {},
   "outputs": [
    {
     "name": "stderr",
     "output_type": "stream",
     "text": [
      "/Users/willnobles/opt/anaconda3/envs/metis/lib/python3.8/site-packages/sklearn/linear_model/_logistic.py:763: ConvergenceWarning: lbfgs failed to converge (status=1):\n",
      "STOP: TOTAL NO. of ITERATIONS REACHED LIMIT.\n",
      "\n",
      "Increase the number of iterations (max_iter) or scale the data as shown in:\n",
      "    https://scikit-learn.org/stable/modules/preprocessing.html\n",
      "Please also refer to the documentation for alternative solver options:\n",
      "    https://scikit-learn.org/stable/modules/linear_model.html#logistic-regression\n",
      "  n_iter_i = _check_optimize_result(\n"
     ]
    },
    {
     "data": {
      "image/png": "[encoded data removed]",
      "text/plain": [
       "<Figure size 900x600 with 2 Axes>"
      ]
     },
     "metadata": {
      "needs_background": "light"
     },
     "output_type": "display_data"
    }
   ],
   "source": [
    "# Run the analysis again. What do we expect to see with balanced classes??\n",
    "# cell takes ~15s to run\n",
    "rf_resampled = LogisticRegression()\n",
    "clf_ros = rf_resampled.fit(X_resampled, y_resampled)\n",
    "\n",
    "# Print confusion matrix for kNN regression\n",
    "rf_resampled_confusion = confusion_matrix(label_test, rf_resampled.predict(X_test_combined))\n",
    "plt.figure(dpi=150)\n",
    "sns.heatmap(rf_resampled_confusion, cmap=plt.cm.Blues, annot=True, square=True, fmt='.0f',\n",
    "           xticklabels=[0, 1],\n",
    "           yticklabels=[0, 1])\n",
    "\n",
    "plt.xlabel('Predicted species')\n",
    "plt.ylabel('Actual species')\n",
    "plt.title('Oversampled Random Forest confusion matrix');"
   ]
  },
  {
   "cell_type": "code",
   "execution_count": 189,
   "metadata": {},
   "outputs": [
    {
     "name": "stdout",
     "output_type": "stream",
     "text": [
      "The accuracy score for LogisticRegression() is...\n",
      "Training:  56.87%\n",
      "Test set:  54.19%\n"
     ]
    }
   ],
   "source": [
    "print_accuracy(rf_resampled, X_resampled, y_resampled, X_test_combined, label_test)"
   ]
  },
  {
   "cell_type": "code",
   "execution_count": 190,
   "metadata": {},
   "outputs": [
    {
     "name": "stdout",
     "output_type": "stream",
     "text": [
      "Default threshold...\n",
      "Precision:  26.90%, Recall:  63.79%\n"
     ]
    }
   ],
   "source": [
    "precision_and_recall(label_test, rf_resampled.predict(X_test_combined))"
   ]
  },
  {
   "cell_type": "markdown",
   "metadata": {},
   "source": [
    "### XGBoost"
   ]
  },
  {
   "cell_type": "code",
   "execution_count": 38,
   "metadata": {},
   "outputs": [],
   "source": [
    "from sklearn.ensemble import RandomForestRegressor\n",
    "from sklearn.linear_model import LinearRegression\n",
    "import xgboost as xgb"
   ]
  },
  {
   "cell_type": "code",
   "execution_count": 39,
   "metadata": {},
   "outputs": [],
   "source": [
    "def rmse(actuals, preds):\n",
    "    '''\n",
    "    Function to calculate Root Mean Squared Error\n",
    "    '''\n",
    "    return np.sqrt(((actuals - preds) ** 2).mean())"
   ]
  },
  {
   "cell_type": "markdown",
   "metadata": {},
   "source": [
    "Evaluate the RMSE of various models used."
   ]
  },
  {
   "cell_type": "code",
   "execution_count": 40,
   "metadata": {},
   "outputs": [
    {
     "data": {
      "text/plain": [
       "0.4091608405183042"
      ]
     },
     "execution_count": 40,
     "metadata": {},
     "output_type": "execute_result"
    }
   ],
   "source": [
    "lr = LinearRegression()\n",
    "lr.fit(X_train_combined, label_train)\n",
    "rmse(lr.predict(X_test_combined), label_test)"
   ]
  },
  {
   "cell_type": "code",
   "execution_count": 41,
   "metadata": {},
   "outputs": [
    {
     "data": {
      "text/plain": [
       "0.453224236925209"
      ]
     },
     "execution_count": 41,
     "metadata": {},
     "output_type": "execute_result"
    }
   ],
   "source": [
    "knn = KNeighborsClassifier(n_neighbors=5)\n",
    "knn.fit(X_train_combined, label_train)\n",
    "rmse(knn.predict(X_test_combined), label_test)"
   ]
  },
  {
   "cell_type": "code",
   "execution_count": 42,
   "metadata": {},
   "outputs": [
    {
     "data": {
      "text/plain": [
       "0.26705546125739377"
      ]
     },
     "execution_count": 42,
     "metadata": {},
     "output_type": "execute_result"
    }
   ],
   "source": [
    "rf = RandomForestRegressor(n_estimators = 100, max_features = 3, n_jobs=-1)\n",
    "rf.fit(X_train_combined, label_train)\n",
    "rmse(rf.predict(X_test_combined), label_test)"
   ]
  },
  {
   "cell_type": "code",
   "execution_count": 43,
   "metadata": {},
   "outputs": [
    {
     "name": "stdout",
     "output_type": "stream",
     "text": [
      "[0]\tvalidation_0-rmse:0.48438\tvalidation_1-rmse:0.48405\n",
      "[1]\tvalidation_0-rmse:0.47133\tvalidation_1-rmse:0.47073\n",
      "[2]\tvalidation_0-rmse:0.46046\tvalidation_1-rmse:0.45960\n",
      "[3]\tvalidation_0-rmse:0.45149\tvalidation_1-rmse:0.45040\n",
      "[4]\tvalidation_0-rmse:0.44381\tvalidation_1-rmse:0.44250\n",
      "[5]\tvalidation_0-rmse:0.43743\tvalidation_1-rmse:0.43591\n",
      "[6]\tvalidation_0-rmse:0.43233\tvalidation_1-rmse:0.43064\n",
      "[7]\tvalidation_0-rmse:0.42799\tvalidation_1-rmse:0.42613\n",
      "[8]\tvalidation_0-rmse:0.42443\tvalidation_1-rmse:0.42243\n",
      "[9]\tvalidation_0-rmse:0.42144\tvalidation_1-rmse:0.41932\n",
      "[10]\tvalidation_0-rmse:0.41911\tvalidation_1-rmse:0.41691\n",
      "[11]\tvalidation_0-rmse:0.41713\tvalidation_1-rmse:0.41485\n",
      "[12]\tvalidation_0-rmse:0.41545\tvalidation_1-rmse:0.41307\n",
      "[13]\tvalidation_0-rmse:0.41410\tvalidation_1-rmse:0.41163\n",
      "[14]\tvalidation_0-rmse:0.41295\tvalidation_1-rmse:0.41042\n",
      "[15]\tvalidation_0-rmse:0.41201\tvalidation_1-rmse:0.40941\n",
      "[16]\tvalidation_0-rmse:0.41121\tvalidation_1-rmse:0.40858\n",
      "[17]\tvalidation_0-rmse:0.41058\tvalidation_1-rmse:0.40791\n",
      "[18]\tvalidation_0-rmse:0.41005\tvalidation_1-rmse:0.40730\n",
      "[19]\tvalidation_0-rmse:0.40958\tvalidation_1-rmse:0.40678\n",
      "[20]\tvalidation_0-rmse:0.40919\tvalidation_1-rmse:0.40637\n",
      "[21]\tvalidation_0-rmse:0.40889\tvalidation_1-rmse:0.40607\n",
      "[22]\tvalidation_0-rmse:0.40859\tvalidation_1-rmse:0.40582\n",
      "[23]\tvalidation_0-rmse:0.40835\tvalidation_1-rmse:0.40556\n",
      "[24]\tvalidation_0-rmse:0.40817\tvalidation_1-rmse:0.40541\n",
      "[25]\tvalidation_0-rmse:0.40799\tvalidation_1-rmse:0.40524\n",
      "[26]\tvalidation_0-rmse:0.40782\tvalidation_1-rmse:0.40506\n",
      "[27]\tvalidation_0-rmse:0.40764\tvalidation_1-rmse:0.40492\n",
      "[28]\tvalidation_0-rmse:0.40753\tvalidation_1-rmse:0.40481\n",
      "[29]\tvalidation_0-rmse:0.40741\tvalidation_1-rmse:0.40474\n",
      "[30]\tvalidation_0-rmse:0.40727\tvalidation_1-rmse:0.40464\n",
      "[31]\tvalidation_0-rmse:0.40716\tvalidation_1-rmse:0.40454\n",
      "[32]\tvalidation_0-rmse:0.40706\tvalidation_1-rmse:0.40447\n",
      "[33]\tvalidation_0-rmse:0.40700\tvalidation_1-rmse:0.40442\n",
      "[34]\tvalidation_0-rmse:0.40692\tvalidation_1-rmse:0.40438\n",
      "[35]\tvalidation_0-rmse:0.40685\tvalidation_1-rmse:0.40433\n",
      "[36]\tvalidation_0-rmse:0.40676\tvalidation_1-rmse:0.40426\n",
      "[37]\tvalidation_0-rmse:0.40668\tvalidation_1-rmse:0.40421\n",
      "[38]\tvalidation_0-rmse:0.40664\tvalidation_1-rmse:0.40418\n",
      "[39]\tvalidation_0-rmse:0.40657\tvalidation_1-rmse:0.40415\n",
      "[40]\tvalidation_0-rmse:0.40650\tvalidation_1-rmse:0.40412\n",
      "[41]\tvalidation_0-rmse:0.40644\tvalidation_1-rmse:0.40408\n",
      "[42]\tvalidation_0-rmse:0.40639\tvalidation_1-rmse:0.40405\n",
      "[43]\tvalidation_0-rmse:0.40635\tvalidation_1-rmse:0.40404\n",
      "[44]\tvalidation_0-rmse:0.40630\tvalidation_1-rmse:0.40401\n",
      "[45]\tvalidation_0-rmse:0.40624\tvalidation_1-rmse:0.40399\n",
      "[46]\tvalidation_0-rmse:0.40620\tvalidation_1-rmse:0.40397\n",
      "[47]\tvalidation_0-rmse:0.40614\tvalidation_1-rmse:0.40393\n",
      "[48]\tvalidation_0-rmse:0.40610\tvalidation_1-rmse:0.40393\n",
      "[49]\tvalidation_0-rmse:0.40604\tvalidation_1-rmse:0.40392\n",
      "[50]\tvalidation_0-rmse:0.40598\tvalidation_1-rmse:0.40392\n",
      "[51]\tvalidation_0-rmse:0.40595\tvalidation_1-rmse:0.40389\n",
      "[52]\tvalidation_0-rmse:0.40589\tvalidation_1-rmse:0.40387\n",
      "[53]\tvalidation_0-rmse:0.40585\tvalidation_1-rmse:0.40385\n",
      "[54]\tvalidation_0-rmse:0.40581\tvalidation_1-rmse:0.40381\n",
      "[55]\tvalidation_0-rmse:0.40575\tvalidation_1-rmse:0.40382\n",
      "[56]\tvalidation_0-rmse:0.40572\tvalidation_1-rmse:0.40381\n",
      "[57]\tvalidation_0-rmse:0.40568\tvalidation_1-rmse:0.40381\n",
      "[58]\tvalidation_0-rmse:0.40565\tvalidation_1-rmse:0.40378\n",
      "[59]\tvalidation_0-rmse:0.40561\tvalidation_1-rmse:0.40377\n",
      "[60]\tvalidation_0-rmse:0.40558\tvalidation_1-rmse:0.40377\n",
      "[61]\tvalidation_0-rmse:0.40555\tvalidation_1-rmse:0.40377\n",
      "[62]\tvalidation_0-rmse:0.40552\tvalidation_1-rmse:0.40377\n",
      "[63]\tvalidation_0-rmse:0.40548\tvalidation_1-rmse:0.40376\n",
      "[64]\tvalidation_0-rmse:0.40544\tvalidation_1-rmse:0.40378\n",
      "[65]\tvalidation_0-rmse:0.40540\tvalidation_1-rmse:0.40375\n",
      "[66]\tvalidation_0-rmse:0.40537\tvalidation_1-rmse:0.40374\n",
      "[67]\tvalidation_0-rmse:0.40534\tvalidation_1-rmse:0.40375\n",
      "[68]\tvalidation_0-rmse:0.40530\tvalidation_1-rmse:0.40374\n",
      "[69]\tvalidation_0-rmse:0.40528\tvalidation_1-rmse:0.40373\n",
      "[70]\tvalidation_0-rmse:0.40523\tvalidation_1-rmse:0.40375\n",
      "[71]\tvalidation_0-rmse:0.40521\tvalidation_1-rmse:0.40374\n",
      "[72]\tvalidation_0-rmse:0.40519\tvalidation_1-rmse:0.40372\n",
      "[73]\tvalidation_0-rmse:0.40517\tvalidation_1-rmse:0.40372\n",
      "[74]\tvalidation_0-rmse:0.40514\tvalidation_1-rmse:0.40371\n",
      "[75]\tvalidation_0-rmse:0.40512\tvalidation_1-rmse:0.40371\n",
      "[76]\tvalidation_0-rmse:0.40508\tvalidation_1-rmse:0.40371\n",
      "[77]\tvalidation_0-rmse:0.40505\tvalidation_1-rmse:0.40371\n",
      "[78]\tvalidation_0-rmse:0.40503\tvalidation_1-rmse:0.40370\n",
      "[79]\tvalidation_0-rmse:0.40498\tvalidation_1-rmse:0.40369\n",
      "[80]\tvalidation_0-rmse:0.40497\tvalidation_1-rmse:0.40369\n",
      "[81]\tvalidation_0-rmse:0.40493\tvalidation_1-rmse:0.40367\n",
      "[82]\tvalidation_0-rmse:0.40491\tvalidation_1-rmse:0.40367\n",
      "[83]\tvalidation_0-rmse:0.40488\tvalidation_1-rmse:0.40368\n",
      "[84]\tvalidation_0-rmse:0.40484\tvalidation_1-rmse:0.40370\n",
      "[85]\tvalidation_0-rmse:0.40481\tvalidation_1-rmse:0.40369\n",
      "[86]\tvalidation_0-rmse:0.40479\tvalidation_1-rmse:0.40368\n",
      "[87]\tvalidation_0-rmse:0.40477\tvalidation_1-rmse:0.40367\n",
      "[88]\tvalidation_0-rmse:0.40474\tvalidation_1-rmse:0.40367\n",
      "[89]\tvalidation_0-rmse:0.40471\tvalidation_1-rmse:0.40368\n",
      "[90]\tvalidation_0-rmse:0.40468\tvalidation_1-rmse:0.40369\n",
      "[91]\tvalidation_0-rmse:0.40466\tvalidation_1-rmse:0.40370\n",
      "[92]\tvalidation_0-rmse:0.40464\tvalidation_1-rmse:0.40371\n",
      "[93]\tvalidation_0-rmse:0.40462\tvalidation_1-rmse:0.40370\n",
      "[94]\tvalidation_0-rmse:0.40457\tvalidation_1-rmse:0.40372\n",
      "[95]\tvalidation_0-rmse:0.40455\tvalidation_1-rmse:0.40371\n",
      "[96]\tvalidation_0-rmse:0.40452\tvalidation_1-rmse:0.40372\n",
      "[97]\tvalidation_0-rmse:0.40450\tvalidation_1-rmse:0.40372\n",
      "[98]\tvalidation_0-rmse:0.40447\tvalidation_1-rmse:0.40373\n",
      "[99]\tvalidation_0-rmse:0.40444\tvalidation_1-rmse:0.40373\n",
      "[100]\tvalidation_0-rmse:0.40442\tvalidation_1-rmse:0.40373\n",
      "[101]\tvalidation_0-rmse:0.40440\tvalidation_1-rmse:0.40373\n"
     ]
    }
   ],
   "source": [
    "gbm = xgb.XGBRegressor( \n",
    "                       n_estimators=30000, #arbitrary large number\n",
    "                       max_depth=3,\n",
    "                       objective=\"reg:squarederror\",\n",
    "                       learning_rate=.1, \n",
    "                       subsample=1,\n",
    "                       min_child_weight=1,\n",
    "                       colsample_bytree=.8\n",
    "                      )\n",
    "\n",
    "eval_set=[(X_train_combined, label_train),(X_val_combined , label_val)] #tracking train/validation error as we go\n",
    "fit_model = gbm.fit( \n",
    "                    X_train_combined, label_train, \n",
    "                    eval_set=eval_set,\n",
    "                    eval_metric='rmse',\n",
    "                    early_stopping_rounds=20,\n",
    "                    verbose=True #gives output log as below\n",
    "                   )"
   ]
  },
  {
   "cell_type": "code",
   "execution_count": 44,
   "metadata": {},
   "outputs": [
    {
     "data": {
      "text/plain": [
       "0.40343141200665994"
      ]
     },
     "execution_count": 44,
     "metadata": {},
     "output_type": "execute_result"
    }
   ],
   "source": [
    "# predict using n_estimators with lowest validation error\n",
    "rmse(gbm.predict(X_test_combined, ntree_limit=gbm.best_ntree_limit), label_test)"
   ]
  },
  {
   "cell_type": "code",
   "execution_count": 45,
   "metadata": {},
   "outputs": [
    {
     "data": {
      "text/plain": [
       "0.40366716959067445"
      ]
     },
     "execution_count": 45,
     "metadata": {},
     "output_type": "execute_result"
    }
   ],
   "source": [
    "rmse(gbm.predict(X_val_combined, ntree_limit=gbm.best_ntree_limit), label_val)"
   ]
  },
  {
   "cell_type": "code",
   "execution_count": 46,
   "metadata": {},
   "outputs": [
    {
     "data": {
      "text/plain": [
       "0.4037434974119222"
      ]
     },
     "execution_count": 46,
     "metadata": {},
     "output_type": "execute_result"
    }
   ],
   "source": [
    "#Step by step RMSEs, with .1 learning rate:\n",
    "#best max_depth: 7, .452\n",
    "#best subsample: .8, .448\n",
    "#best min_child_weight: 12, .446\n",
    "#best colsample_bytree: .7, .444\n",
    "\n",
    "gbm = xgb.XGBRegressor(\n",
    "    n_estimators=30000,  #arbitrary large number\n",
    "    max_depth=7,\n",
    "    objective=\"reg:squarederror\",\n",
    "    learning_rate=.05,\n",
    "    subsample=.8,\n",
    "    min_child_weight=8,\n",
    "    colsample_bytree=.7,\n",
    "    n_jobs=-1,\n",
    "    random_state=0)\n",
    "\n",
    "eval_set = [(X_train_combined, label_train),\n",
    "            (X_val_combined, label_val)]  #tracking train/validation error as we go\n",
    "\n",
    "fit_model = gbm.fit(\n",
    "    X_train_combined,\n",
    "    label_train,\n",
    "    eval_set=eval_set,\n",
    "    eval_metric='rmse',\n",
    "    early_stopping_rounds=50,\n",
    "    verbose=False)\n",
    "\n",
    "rmse(gbm.predict(X_val_combined, ntree_limit=gbm.best_ntree_limit), label_val)"
   ]
  },
  {
   "cell_type": "code",
   "execution_count": 47,
   "metadata": {},
   "outputs": [
    {
     "data": {
      "text/plain": [
       "0.3965099992109256"
      ]
     },
     "execution_count": 47,
     "metadata": {},
     "output_type": "execute_result"
    }
   ],
   "source": [
    "rmse(gbm.predict(X_test_combined, ntree_limit=gbm.best_ntree_limit), label_test)"
   ]
  },
  {
   "cell_type": "code",
   "execution_count": 48,
   "metadata": {},
   "outputs": [
    {
     "data": {
      "text/plain": [
       "<AxesSubplot:title={'center':'Feature importance'}, xlabel='F score', ylabel='Features'>"
      ]
     },
     "execution_count": 48,
     "metadata": {},
     "output_type": "execute_result"
    },
    {
     "data": {
      "image/png": "[encoded data removed]",
      "text/plain": [
       "<Figure size 432x288 with 1 Axes>"
      ]
     },
     "metadata": {
      "needs_background": "light"
     },
     "output_type": "display_data"
    },
    {
     "data": {
      "image/png": "[encoded data removed]",
      "text/plain": [
       "<Figure size 432x288 with 1 Axes>"
      ]
     },
     "metadata": {
      "needs_background": "light"
     },
     "output_type": "display_data"
    }
   ],
   "source": [
    "xgb.plot_importance(gbm)\n",
    "xgb.plot_importance(gbm, importance_type='gain')"
   ]
  },
  {
   "cell_type": "code",
   "execution_count": 155,
   "metadata": {},
   "outputs": [
    {
     "name": "stderr",
     "output_type": "stream",
     "text": [
      "/Users/willnobles/opt/anaconda3/envs/metis/lib/python3.8/site-packages/sklearn/linear_model/_logistic.py:763: ConvergenceWarning: lbfgs failed to converge (status=1):\n",
      "STOP: TOTAL NO. of ITERATIONS REACHED LIMIT.\n",
      "\n",
      "Increase the number of iterations (max_iter) or scale the data as shown in:\n",
      "    https://scikit-learn.org/stable/modules/preprocessing.html\n",
      "Please also refer to the documentation for alternative solver options:\n",
      "    https://scikit-learn.org/stable/modules/linear_model.html#logistic-regression\n",
      "  n_iter_i = _check_optimize_result(\n"
     ]
    },
    {
     "data": {
      "image/png": "[encoded data removed]",
      "text/plain": [
       "<Figure size 432x288 with 1 Axes>"
      ]
     },
     "metadata": {
      "needs_background": "light"
     },
     "output_type": "display_data"
    }
   ],
   "source": [
    "plt.figure()\n",
    "\n",
    "# Add the models to the list that you want to view on the ROC plot\n",
    "models = [\n",
    "{\n",
    "    'label': 'k Nearest Neighbors',\n",
    "    'model': KNeighborsClassifier(n_neighbors=5),\n",
    "},\n",
    "{\n",
    "    'label': 'Logistic Regression',\n",
    "    'model': LogisticRegression(C=0.95),\n",
    "},\n",
    "{\n",
    "    'label': 'Decision Tree',\n",
    "    'model': DecisionTreeClassifier(max_depth=4),\n",
    "},\n",
    "{\n",
    "    'label': 'Random Forest',\n",
    "    'model': RandomForestClassifier(n_estimators=100),\n",
    "}\n",
    "]\n",
    "\n",
    "# Below for loop iterates through your models list\n",
    "for m in models:\n",
    "    model = m['model'] # select the model\n",
    "    model.fit(X_train_combined, label_train) # train the model\n",
    "    y_pred = model.predict(X_test_combined) # predict the test data\n",
    "    # Compute False postive rate, and True positive rate\n",
    "    fpr, tpr, thresholds = metrics.roc_curve(label_test, model.predict_proba(X_test_combined)[:,1])\n",
    "    # Calculate Area under the curve to display on the plot\n",
    "    auc = metrics.roc_auc_score(label_test, model.predict(X_test_combined))\n",
    "    # Now, plot the computed values\n",
    "    plt.plot(fpr, tpr, label='%s ROC (area = %0.2f)' % (m['label'], auc))\n",
    "# Custom settings for the plot \n",
    "plt.plot([0, 1], [0, 1],'r--')\n",
    "plt.xlim([0.0, 1.0])\n",
    "plt.ylim([0.0, 1.05])\n",
    "plt.xlabel('1-Specificity(False Positive Rate)')\n",
    "plt.ylabel('Sensitivity(True Positive Rate)')\n",
    "plt.title('Receiver Operating Characteristic')\n",
    "plt.legend(loc=\"lower right\")\n",
    "plt.show()   # Display"
   ]
  },
  {
   "cell_type": "code",
   "execution_count": 191,
   "metadata": {},
   "outputs": [
    {
     "name": "stderr",
     "output_type": "stream",
     "text": [
      "/Users/willnobles/opt/anaconda3/envs/metis/lib/python3.8/site-packages/sklearn/linear_model/_logistic.py:763: ConvergenceWarning: lbfgs failed to converge (status=1):\n",
      "STOP: TOTAL NO. of ITERATIONS REACHED LIMIT.\n",
      "\n",
      "Increase the number of iterations (max_iter) or scale the data as shown in:\n",
      "    https://scikit-learn.org/stable/modules/preprocessing.html\n",
      "Please also refer to the documentation for alternative solver options:\n",
      "    https://scikit-learn.org/stable/modules/linear_model.html#logistic-regression\n",
      "  n_iter_i = _check_optimize_result(\n"
     ]
    },
    {
     "data": {
      "image/png": "[encoded data removed]",
      "text/plain": [
       "<Figure size 432x288 with 1 Axes>"
      ]
     },
     "metadata": {
      "needs_background": "light"
     },
     "output_type": "display_data"
    }
   ],
   "source": [
    "plt.figure()\n",
    "\n",
    "# Add the models to the list that you want to view on the ROC plot\n",
    "models = [\n",
    "{\n",
    "    'label': 'k Nearest Neighbors',\n",
    "    'model': KNeighborsClassifier(n_neighbors=5),\n",
    "},\n",
    "{\n",
    "    'label': 'Logistic Regression',\n",
    "    'model': LogisticRegression(C=0.95),\n",
    "},\n",
    "{\n",
    "    'label': 'Decision Tree',\n",
    "    'model': DecisionTreeClassifier(max_depth=4),\n",
    "},\n",
    "{\n",
    "    'label': 'Random Forest',\n",
    "    'model': RandomForestClassifier(n_estimators=100),\n",
    "}\n",
    "]\n",
    "\n",
    "# Below for loop iterates through your models list\n",
    "for m in models:\n",
    "    model = m['model'] # select the model\n",
    "    model.fit(X_resampled, y_resampled) # train the model\n",
    "    y_pred = model.predict(X_test_combined) # predict the test data\n",
    "    # Compute False postive rate, and True positive rate\n",
    "    fpr, tpr, thresholds = metrics.roc_curve(label_test, model.predict_proba(X_test_combined)[:,1])\n",
    "    # Calculate Area under the curve to display on the plot\n",
    "    auc = metrics.roc_auc_score(label_test, model.predict(X_test_combined))\n",
    "    # Now, plot the computed values\n",
    "    plt.plot(fpr, tpr, label='%s ROC (area = %0.2f)' % (m['label'], auc))\n",
    "# Custom settings for the plot \n",
    "plt.plot([0, 1], [0, 1],'r--')\n",
    "plt.xlim([0.0, 1.0])\n",
    "plt.ylim([0.0, 1.05])\n",
    "plt.xlabel('1-Specificity(False Positive Rate)')\n",
    "plt.ylabel('Sensitivity(True Positive Rate)')\n",
    "plt.title('Receiver Operating Characteristic')\n",
    "plt.legend(loc=\"lower right\")\n",
    "plt.show()   # Display"
   ]
  },
  {
   "cell_type": "code",
   "execution_count": null,
   "metadata": {},
   "outputs": [],
   "source": []
  }
 ],
 "metadata": {
  "kernelspec": {
   "display_name": "Python 3",
   "language": "python",
   "name": "python3"
  },
  "language_info": {
   "codemirror_mode": {
    "name": "ipython",
    "version": 3
   },
   "file_extension": ".py",
   "mimetype": "text/x-python",
   "name": "python",
   "nbconvert_exporter": "python",
   "pygments_lexer": "ipython3",
   "version": "3.8.6"
  }
 },
 "nbformat": 4,
 "nbformat_minor": 4
}
