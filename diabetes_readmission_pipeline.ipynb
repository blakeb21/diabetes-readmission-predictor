{
 "cells": [
  {
   "cell_type": "markdown",
   "metadata": {},
   "source": [
    "# Predicting Hospital Readmission for Diabetes Patients\n",
    "\n",
    "## Objective\n",
    "Demonstrate an end-to-end machine learning pipeline to predict whether a patient will be readmitted to a hospital after a diabetes diagnosis using data maintained by UCI detailing 10 years of clinical care at U.S. hospitals and integrated delivery networks.\n",
    "\n",
    "## Table of Contents\n",
    "* [Data Loading](#data_loading)\n",
    "* [Data Cleaning & Preprocessing](#data_cleaning)\n",
    "* [Exploratory Data Analysis](#exploratory_data_analysis)\n",
    "* [Feature Engineering](#feature_engineering)\n",
    "* [Model Training & Evaluation](#model_training)"
   ]
  },
  {
   "cell_type": "code",
   "execution_count": 1,
   "metadata": {},
   "outputs": [],
   "source": [
    "import io\n",
    "import zipfile\n",
    "\n",
    "import numpy as np\n",
    "import pandas as pd\n",
    "import requests"
   ]
  },
  {
   "cell_type": "markdown",
   "metadata": {},
   "source": [
    "## Data Loading <a class=\"anchor\" id=\"data_loading\"></a>"
   ]
  },
  {
   "cell_type": "code",
   "execution_count": 2,
   "metadata": {},
   "outputs": [
    {
     "name": "stdout",
     "output_type": "stream",
     "text": [
      "Downloading dataset...\n",
      "Download successful! Extracting files...\n",
      "Files contained in ZIP:\n",
      " diabetic_data.csv, IDS_mapping.csv\n"
     ]
    }
   ],
   "source": [
    "# URL of the dataset\n",
    "url = \"https://archive.ics.uci.edu/static/public/296/diabetes+130-us+hospitals+for+years+1999-2008.zip\"\n",
    "\n",
    "try:\n",
    "    print(\"Downloading dataset...\")\n",
    "    response = requests.get(url, stream=True)\n",
    "    response.raise_for_status() # raises error for bad HTTP responses\n",
    "\n",
    "    print(\"Download successful! Extracting files...\")\n",
    "    zip_file = zipfile.ZipFile(io.BytesIO(response.content)) # open ZIP in memory\n",
    "\n",
    "    # list the files\n",
    "    files_list = zip_file.namelist()\n",
    "    print(\"Files contained in ZIP:\\n\", \", \".join(files_list))\n",
    "\n",
    "    # create a dictionary to store the files\n",
    "    files = {}\n",
    "\n",
    "    for file_name in files_list:\n",
    "        with zip_file.open(file_name) as f:\n",
    "            files[file_name] = pd.read_csv(f)\n",
    "\n",
    "    # assign the DataFrames to variables\n",
    "    df_diabetes = files.get(\"diabetic_data.csv\")\n",
    "    df_ids = files.get(\"IDS_mapping.csv\")\n",
    "\n",
    "except requests.exceptions.RequestException as e:\n",
    "    print(f\"Error downloading dataset: {e}\")\n",
    "\n",
    "    # TODO: Possibly comment out the next three lines\n",
    "    print(\"Retrieving from local directory...\")\n",
    "    df_diabetes = pd.read_csv(\"~/Downloads/diabetes+130-us+hospitals+for+years+1999-2008/diabetic_data.csv\")\n",
    "    df_ids = pd.read_csv(\"~/Downloads/diabetes+130-us+hospitals+for+years+1999-2008/IDS_mapping.csv\")\n",
    "\n",
    "except zipfile.BadZipFile:\n",
    "    print(\"Error processing ZIP file\")\n",
    "\n",
    "except OSError as e:\n",
    "    print(f\"Error opening file: {e}\")\n",
    "\n",
    "except KeyError as e:\n",
    "    print(f\"Error retrieving file: {e}\")"
   ]
  },
  {
   "cell_type": "markdown",
   "metadata": {},
   "source": [
    "## Data Cleaning & Preprocessing <a class=\"anchor\" id=\"data_cleaning\"></a>"
   ]
  },
  {
   "cell_type": "code",
   "execution_count": 3,
   "metadata": {},
   "outputs": [],
   "source": [
    "# prepare the IDs DF for merging\n",
    "df_ids.dropna(inplace=True)\n",
    "df_filtered_ids = df_ids[df_ids[\"admission_type_id\"].str.isdigit()].copy()\n",
    "df_grouped_ids = df_filtered_ids.groupby(\"admission_type_id\")[\"description\"].apply(lambda x: \" | \".join(x)).reset_index()\n",
    "\n",
    "# prepare the diabetes DF for merging\n",
    "df_diabetes[\"admission_type_id\"] = df_diabetes[\"admission_type_id\"].astype(str)\n",
    "\n",
    "# merge the DFs\n",
    "df = df_diabetes.merge(df_grouped_ids, how=\"left\", on=\"admission_type_id\")"
   ]
  },
  {
   "cell_type": "code",
   "execution_count": 4,
   "metadata": {},
   "outputs": [
    {
     "name": "stdout",
     "output_type": "stream",
     "text": [
      "Columns using \"?\" to signify null values:\n",
      " race, weight, payer_code, medical_specialty, diag_1, diag_2, diag_3\n"
     ]
    }
   ],
   "source": [
    "# identify columns using a question mark as a null value\n",
    "question_mark_cols = \", \".join(df.columns[(df == \"?\").any()])\n",
    "print(\"Columns using \\\"?\\\" to signify null values:\\n\", question_mark_cols)\n",
    "\n",
    "# replace \"?\" rows with NaN\n",
    "df.where(df != \"?\", np.nan, inplace=True)"
   ]
  },
  {
   "cell_type": "code",
   "execution_count": 5,
   "metadata": {},
   "outputs": [
    {
     "data": {
      "text/html": [
       "<div>\n",
       "<style scoped>\n",
       "    .dataframe tbody tr th:only-of-type {\n",
       "        vertical-align: middle;\n",
       "    }\n",
       "\n",
       "    .dataframe tbody tr th {\n",
       "        vertical-align: top;\n",
       "    }\n",
       "\n",
       "    .dataframe thead th {\n",
       "        text-align: right;\n",
       "    }\n",
       "</style>\n",
       "<table border=\"1\" class=\"dataframe\">\n",
       "  <thead>\n",
       "    <tr style=\"text-align: right;\">\n",
       "      <th></th>\n",
       "      <th>column_name</th>\n",
       "      <th>null_count</th>\n",
       "      <th>percent_null</th>\n",
       "    </tr>\n",
       "  </thead>\n",
       "  <tbody>\n",
       "    <tr>\n",
       "      <th>1</th>\n",
       "      <td>weight</td>\n",
       "      <td>98569</td>\n",
       "      <td>0.968585</td>\n",
       "    </tr>\n",
       "    <tr>\n",
       "      <th>7</th>\n",
       "      <td>max_glu_serum</td>\n",
       "      <td>96420</td>\n",
       "      <td>0.947468</td>\n",
       "    </tr>\n",
       "    <tr>\n",
       "      <th>8</th>\n",
       "      <td>A1Cresult</td>\n",
       "      <td>84748</td>\n",
       "      <td>0.832773</td>\n",
       "    </tr>\n",
       "    <tr>\n",
       "      <th>3</th>\n",
       "      <td>medical_specialty</td>\n",
       "      <td>49949</td>\n",
       "      <td>0.490822</td>\n",
       "    </tr>\n",
       "    <tr>\n",
       "      <th>2</th>\n",
       "      <td>payer_code</td>\n",
       "      <td>40256</td>\n",
       "      <td>0.395574</td>\n",
       "    </tr>\n",
       "    <tr>\n",
       "      <th>0</th>\n",
       "      <td>race</td>\n",
       "      <td>2273</td>\n",
       "      <td>0.022336</td>\n",
       "    </tr>\n",
       "    <tr>\n",
       "      <th>6</th>\n",
       "      <td>diag_3</td>\n",
       "      <td>1423</td>\n",
       "      <td>0.013983</td>\n",
       "    </tr>\n",
       "    <tr>\n",
       "      <th>5</th>\n",
       "      <td>diag_2</td>\n",
       "      <td>358</td>\n",
       "      <td>0.003518</td>\n",
       "    </tr>\n",
       "    <tr>\n",
       "      <th>4</th>\n",
       "      <td>diag_1</td>\n",
       "      <td>21</td>\n",
       "      <td>0.000206</td>\n",
       "    </tr>\n",
       "  </tbody>\n",
       "</table>\n",
       "</div>"
      ],
      "text/plain": [
       "         column_name  null_count  percent_null\n",
       "1             weight       98569      0.968585\n",
       "7      max_glu_serum       96420      0.947468\n",
       "8          A1Cresult       84748      0.832773\n",
       "3  medical_specialty       49949      0.490822\n",
       "2         payer_code       40256      0.395574\n",
       "0               race        2273      0.022336\n",
       "6             diag_3        1423      0.013983\n",
       "5             diag_2         358      0.003518\n",
       "4             diag_1          21      0.000206"
      ]
     },
     "execution_count": 5,
     "metadata": {},
     "output_type": "execute_result"
    }
   ],
   "source": [
    "# check for missing values\n",
    "missing_values = df.isna().sum()\n",
    "missing_values = missing_values[missing_values > 0].reset_index()\n",
    "missing_values.columns = [\"column_name\", \"null_count\"]\n",
    "missing_values.sort_values(by=\"null_count\", ascending=False, inplace=True)\n",
    "missing_values[\"percent_null\"] = missing_values[\"null_count\"] / df.shape[0]\n",
    "missing_values"
   ]
  },
  {
   "cell_type": "code",
   "execution_count": 6,
   "metadata": {},
   "outputs": [],
   "source": [
    "# drop columns with 30% or more values missing\n",
    "non_na_vals = df.shape[0] - (0.3 * df.shape[0])\n",
    "df.dropna(thresh=non_na_vals, axis=1, inplace=True)"
   ]
  },
  {
   "cell_type": "code",
   "execution_count": 7,
   "metadata": {},
   "outputs": [],
   "source": [
    "def map_icd9_to_category(code):\n",
    "    \"\"\"Maps ICD-9 codes to disease categories.\n",
    "\n",
    "    Args:\n",
    "        code: A string value representing an ICD-9 code.\n",
    "    category = s:\n",
    "        category: A string value representing a disease classification.\n",
    "    \"\"\"\n",
    "\n",
    "    try:\n",
    "        code = str(code).strip()\n",
    "        if code.startswith(\"250\"):\n",
    "            category =  \"Diabetes-Related\"\n",
    "        elif code.startswith(\"E\"):\n",
    "            category =  \"Supplementary Classification of External Causes of Injury and Poisoning\"\n",
    "        elif code.startswith(\"V\"):\n",
    "            category =  \"Supplementary Classification of Factors influencing Health Status and Contact with Health Services\"\n",
    "\n",
    "        code = int(float(code))\n",
    "        if 1 <= code <= 139:\n",
    "            category =  \"Infectious and Parasitic Diseases\"\n",
    "        elif 140 <= code <= 239:\n",
    "            category =  \"Neoplasms\"\n",
    "        elif 240 <= code <= 279:\n",
    "            category =  \"Endocrine, Nutritional and Metabolic Diseases, and Immunity Disorders\"\n",
    "        elif 280 <= code <= 289:\n",
    "            category =  \"Diseases of the Blood and Blood-forming Organs\"\n",
    "        elif 290 <= code <= 319:\n",
    "            category =  \"Mental Disorders\"\n",
    "        elif 320 <= code <= 389:\n",
    "            category =  \"Diseases of the Nervous System and Sense Organs\"\n",
    "        elif 390 <= code <= 459:\n",
    "            category =  \"Diseases of the Circulatory System\"\n",
    "        elif 460 <= code <= 519:\n",
    "            category =  \"Diseases of the Respiratory System\"\n",
    "        elif 520 <= code <= 579:\n",
    "            category =  \"Diseases of the Digestive System\"\n",
    "        elif 580 <= code <= 629:\n",
    "            category =  \"Diseases of the Genitourinary System\"\n",
    "        elif 630 <= code <= 679:\n",
    "            category =  \"Complications of Pregnancy, Childbirth, and the Puerperium\"\n",
    "        elif 680 <= code <= 709:\n",
    "            category =  \"Diseases of the Skin and Subcutaneous Tissue\"\n",
    "        elif 710 <= code <= 739:\n",
    "            category =  \"Diseases of the Musculoskeletal System and Connective Tissue\"\n",
    "        elif 740 <= code <= 759:\n",
    "            category =  \"Congenital Anomalies\"\n",
    "        elif 760 <= code <= 779:\n",
    "            category =  \"Certain Conditions originating in the Perinatal Period\"\n",
    "        elif 780 <= code <= 799:\n",
    "            category =  \"Symptoms, Signs and Ill-defined Conditions\"\n",
    "        elif 800 <= code <= 999:\n",
    "            category =  \"Injury and Poisoning\"\n",
    "        else:\n",
    "            category =  \"Other\"\n",
    "\n",
    "    except:\n",
    "        category =  \"Other\"\n",
    "\n",
    "    return category"
   ]
  },
  {
   "cell_type": "code",
   "execution_count": 8,
   "metadata": {},
   "outputs": [],
   "source": [
    "# convert ICD-9 codes to disease categories\n",
    "df[[\"diag_1\", \"diag_2\", \"diag_3\"]] = df[[\"diag_1\", \"diag_2\", \"diag_3\"]].apply(lambda col: col.map(map_icd9_to_category, na_action=\"ignore\"))"
   ]
  },
  {
   "cell_type": "code",
   "execution_count": null,
   "metadata": {},
   "outputs": [],
   "source": []
  }
 ],
 "metadata": {
  "kernelspec": {
   "display_name": ".venv",
   "language": "python",
   "name": "python3"
  },
  "language_info": {
   "codemirror_mode": {
    "name": "ipython",
    "version": 3
   },
   "file_extension": ".py",
   "mimetype": "text/x-python",
   "name": "python",
   "nbconvert_exporter": "python",
   "pygments_lexer": "ipython3",
   "version": "3.13.2"
  }
 },
 "nbformat": 4,
 "nbformat_minor": 2
}
